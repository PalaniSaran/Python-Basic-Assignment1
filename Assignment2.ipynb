{
 "cells": [
  {
   "cell_type": "code",
   "execution_count": null,
   "id": "eb49400e-a927-4d10-b145-9578042e58f5",
   "metadata": {},
   "outputs": [],
   "source": [
    "# 1.What are the two values of the Boolean data type? How do you write them?\n",
    "\n",
    "True. # T must be capital letter.\n",
    "False. # F must be capital letter."
   ]
  },
  {
   "cell_type": "code",
   "execution_count": null,
   "id": "7a327ac1-f79b-442b-b936-f5557a4785ce",
   "metadata": {},
   "outputs": [],
   "source": [
    "# 2. What are the three different types of Boolean operators?\n",
    "\n",
    "\"\"\"\n",
    "and\n",
    "or\n",
    "not\n",
    "\"\"\""
   ]
  },
  {
   "cell_type": "code",
   "execution_count": null,
   "id": "5aea7850-d02b-48a6-a8ed-7d9051aac707",
   "metadata": {},
   "outputs": [],
   "source": [
    "# 3. Make a list of each Boolean operator's truth tables.\n",
    "# (i.e. every possible combination of Boolean values for the operator and what it evaluate ).\n",
    "\"\"\"\n",
    "'and'  (True, only if both the value are True.)\n",
    "True and True is True.\n",
    "True and False is False.\n",
    "False and True is False.\n",
    "False and False is False.\n",
    "\"\"\""
   ]
  },
  {
   "cell_type": "code",
   "execution_count": null,
   "id": "edfbe4b5-8e99-4fae-9bec-1d179a32c484",
   "metadata": {},
   "outputs": [],
   "source": [
    "\"\"\"\n",
    "'or' (True, if any one of the value is True.)\n",
    "True or True is True.\n",
    "True or False is True.\n",
    "False or True is True.\n",
    "False or False is False.\n",
    "\"\"\""
   ]
  },
  {
   "cell_type": "code",
   "execution_count": null,
   "id": "037f357d-d57e-41a1-ade5-9d4d6a9c8eab",
   "metadata": {},
   "outputs": [],
   "source": [
    "\"\"\"\n",
    "'not' (It reverses the result. If the result is False, it returns True and vice versa.)\n",
    "True is False.\n",
    "False is True.\n",
    "\"\"\""
   ]
  },
  {
   "cell_type": "code",
   "execution_count": 4,
   "id": "33182f4e-1179-4536-a497-48450abea3fd",
   "metadata": {},
   "outputs": [
    {
     "name": "stdout",
     "output_type": "stream",
     "text": [
      "False False True False False True\n"
     ]
    }
   ],
   "source": [
    "# 4. What are the values of the following expressions?\n",
    "\n",
    "a = (5 > 4) and (3 == 5)\n",
    "b = not (5 > 4)\n",
    "c = (5 > 4) or (3 == 5)\n",
    "d = not ((5 > 4) or (3 == 5))\n",
    "e = (True and True) and (True == False)\n",
    "f = (not False) or (not True)\n",
    "print(a,b,c,d,e,f)"
   ]
  },
  {
   "cell_type": "code",
   "execution_count": null,
   "id": "ee363e63-23de-4205-9d25-3997b17386a2",
   "metadata": {},
   "outputs": [],
   "source": [
    "# 5. What are the six comparison operators?\n",
    "\n",
    "\"\"\"\n",
    "Equal (=)\n",
    "Not equal (!=)\n",
    "Greater than (>)\n",
    "Less than (<)\n",
    "Greater than or equal to (>=)\n",
    "Less than or equal to (<=)\n",
    "\"\"\""
   ]
  },
  {
   "cell_type": "code",
   "execution_count": 7,
   "id": "d5cd61d1-5d9b-4aa2-9c1f-2e0a46316c6c",
   "metadata": {},
   "outputs": [
    {
     "name": "stdout",
     "output_type": "stream",
     "text": [
      "2\n",
      "3\n",
      "4\n",
      "5\n",
      "6\n",
      "7\n"
     ]
    }
   ],
   "source": [
    "# 6. How do you tell the difference between the equal to and assignment operators?\n",
    "# Describe a condition and when you would use one.\n",
    "\n",
    "# Equal to means the declaration of value by using variable.\n",
    "# Assignment operators are used to assign a values to the variables in the form of expression to perform operations.\n",
    "\n",
    "i = 2 # example of equal to\n",
    "while i < 8:\n",
    "    print(i)\n",
    "    i += 1 # example of assignment operators"
   ]
  },
  {
   "cell_type": "code",
   "execution_count": null,
   "id": "cfe39c05-e808-4462-bfc9-c122f987a008",
   "metadata": {},
   "outputs": [],
   "source": [
    "# 7. Identify the three blocks in this code:\n",
    "spam = 0\n",
    "if spam == 10:\n",
    "    print('eggs')\n",
    "if spam > 5:\n",
    "    print('bacon')\n",
    "else:               # Three blocks are\n",
    "    print('ham')    # print('eggs')\n",
    "print('spam')       # print('bacon')\n",
    "print('spam')       # print('ham')"
   ]
  },
  {
   "cell_type": "code",
   "execution_count": 12,
   "id": "3e9c9d06-8b5b-4ea2-9eb1-c5cdb99e0243",
   "metadata": {},
   "outputs": [
    {
     "name": "stdout",
     "output_type": "stream",
     "text": [
      "Greetings!\n"
     ]
    }
   ],
   "source": [
    "\"\"\"\n",
    "8. Write code that prints Hello if 1 is stored in spam, \n",
    "prints Howdy if 2 is stored in spam, and prints Greetings! if anything else is stored in spam.\n",
    "\"\"\"\n",
    "\n",
    "spam = 5\n",
    "if spam == 1:\n",
    "    print('Hello')\n",
    "elif spam == 2:\n",
    "    print('Howdy')\n",
    "else:\n",
    "    print('Greetings!')"
   ]
  },
  {
   "cell_type": "code",
   "execution_count": null,
   "id": "0981554a-dd14-4fad-82f4-0fa87b2092e4",
   "metadata": {},
   "outputs": [],
   "source": [
    "# 9.If your programme is stuck in an endless loop, what keys you’ll press?\n",
    "\n",
    "# ctrl+c"
   ]
  },
  {
   "cell_type": "code",
   "execution_count": null,
   "id": "ad87c329-dfca-4321-919e-109f576c48a4",
   "metadata": {},
   "outputs": [],
   "source": [
    "# 10. How can you tell the difference between break and continue?\n",
    "\n",
    "\"\"\"\n",
    "Break is used to stop the loop at a specified item before the loop ends.\n",
    "Continue is used to remove a specified item from the loop and continue from the next item till the loop end.\n",
    "\"\"\""
   ]
  },
  {
   "cell_type": "code",
   "execution_count": null,
   "id": "957e231e-d689-466a-94fd-f70a51ea3555",
   "metadata": {},
   "outputs": [],
   "source": [
    "# 11. In a for loop, what is the difference between range(10), range(0, 10), and range(0, 10, 1)?\n",
    "\n",
    "\"\"\"\n",
    "range(10)\n",
    "It takes a value from 0 to 9. \n",
    "Here the statring value is not mentioned, so automatically it takes 0 as a starting value.\n",
    "\n",
    "range (0,10)\n",
    "It also takes a value from 0 to 9. Here the starting value is mentioned as 0.\n",
    "\n",
    "range(0,10,1)\n",
    "It also takes a value from 0 to 9.\n",
    "0 indicates a start value.\n",
    "10 indicates a stop value.\n",
    "1 indicates a step value.\n",
    "\"\"\""
   ]
  },
  {
   "cell_type": "code",
   "execution_count": 14,
   "id": "ac8d3153-2eca-417a-b1c7-77ae7dfbeded",
   "metadata": {},
   "outputs": [
    {
     "name": "stdout",
     "output_type": "stream",
     "text": [
      "1\n",
      "2\n",
      "3\n",
      "4\n",
      "5\n",
      "6\n",
      "7\n",
      "8\n",
      "9\n",
      "10\n"
     ]
    }
   ],
   "source": [
    "# 12. Write a short program that prints the numbers 1 to 10 using a for loop. \n",
    "# Then write an equivalent program that prints the numbers 1 to 10 using a while loop.\n",
    "\n",
    "# for loop\n",
    "for i in range(1,11):\n",
    "    print(i)"
   ]
  },
  {
   "cell_type": "code",
   "execution_count": 15,
   "id": "9e5b75ce-567e-4017-b6ae-7567da7ad41d",
   "metadata": {},
   "outputs": [
    {
     "name": "stdout",
     "output_type": "stream",
     "text": [
      "1\n",
      "2\n",
      "3\n",
      "4\n",
      "5\n",
      "6\n",
      "7\n",
      "8\n",
      "9\n",
      "10\n"
     ]
    }
   ],
   "source": [
    "# while loop\n",
    "i = 1\n",
    "while i < 11:\n",
    "    print(i)\n",
    "    i += 1"
   ]
  },
  {
   "cell_type": "code",
   "execution_count": null,
   "id": "931aef0b-712b-461f-85e4-02d781d69fef",
   "metadata": {},
   "outputs": [],
   "source": [
    "# 13. If you had a function named bacon() inside a module named spam, how would you call it after importing spam?\n",
    "\n",
    "spam.bacon()"
   ]
  }
 ],
 "metadata": {
  "kernelspec": {
   "display_name": "Python 3 (ipykernel)",
   "language": "python",
   "name": "python3"
  },
  "language_info": {
   "codemirror_mode": {
    "name": "ipython",
    "version": 3
   },
   "file_extension": ".py",
   "mimetype": "text/x-python",
   "name": "python",
   "nbconvert_exporter": "python",
   "pygments_lexer": "ipython3",
   "version": "3.10.6"
  }
 },
 "nbformat": 4,
 "nbformat_minor": 5
}
