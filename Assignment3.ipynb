{
 "cells": [
  {
   "cell_type": "raw",
   "id": "2311ea17-c401-4c28-a418-35da94cb9237",
   "metadata": {},
   "source": [
    "Ques 1: Why are functions advantageous to have in your programs?\n",
    "\n",
    "Answer: \n",
    "# Once we write a code into the function we can use it wherever we want by simply call\n",
    "  the function to execute instead of re-write the code again and again.\n",
    "        \n",
    "# Also it keeps the code more readable.\n",
    "        \n",
    "# It breaks long programs into smaller component. "
   ]
  },
  {
   "cell_type": "raw",
   "id": "be5a7921-e6e1-4fe5-a039-2a04e51a4663",
   "metadata": {},
   "source": [
    "Ques 2: When does the code in a function run: when it's specified or when it's called?\n",
    "\n",
    "Answer:\n",
    "# The code in a function executes when we call the function. It will not execute when we defined the function."
   ]
  },
  {
   "cell_type": "raw",
   "id": "e9710b2b-ad94-447c-aa5d-e33866c0c946",
   "metadata": {},
   "source": [
    "Ques 3: What statement creates a function?\n",
    "\n",
    "Answer:\n",
    "# We define a function by using def keyword followed by the function name, parentheses and a colon."
   ]
  },
  {
   "cell_type": "raw",
   "id": "7b878f56-63e3-47b6-b1f0-d6cf877cc251",
   "metadata": {},
   "source": [
    "Ques 4: What is the difference between a function and a function call?\n",
    "\n",
    "Answer:\n",
    "# Function means where we store a specific code. It is not neccessary to re-write the code again.\n",
    "\n",
    "# Function call means to execute a specific code which is stored in the function, we need to call the function. Unless \n",
    "  it will not execute."
   ]
  },
  {
   "cell_type": "raw",
   "id": "6d298554-ea7b-483e-8ac8-3213078e7d2b",
   "metadata": {},
   "source": [
    "Ques 5: How many global scopes are there in a Python program? How many local scopes?\n",
    "\n",
    "Answer:\n",
    "# There is one global scope. Local scope which are defined inside the function and belong only to that particular function.\n",
    "  It will not work outside the function."
   ]
  },
  {
   "cell_type": "raw",
   "id": "90f4a4da-7308-431e-ad25-83f3f4634ccd",
   "metadata": {},
   "source": [
    "Ques 6: What happens to variables in a local scope when the function call returns?\n",
    "\n",
    "Answer:\n",
    "# When the function call returns, the local scopes are destroyed. All the variable inside the function are lost."
   ]
  },
  {
   "cell_type": "raw",
   "id": "d58c1152-bd10-4fcb-ae9a-020427533264",
   "metadata": {},
   "source": [
    "Ques 7: What is the concept of a return value? Is it possible to have a return value in an expression?\n",
    "\n",
    "Answer:\n",
    "# A return value is a value that a function returns to the calling function when it completes its task. \n",
    "  The return value can be used in other parts of the program.\n",
    "\n",
    "# Return value can be used as a part of an expression."
   ]
  },
  {
   "cell_type": "raw",
   "id": "d51ecf9c-572f-4216-b759-089aa2611a99",
   "metadata": {},
   "source": [
    "Ques 8: If a function does not have a return statement, what is the return value of a call to that function?\n",
    "\n",
    "Answer:\n",
    "# If there is no return statement, it returns None."
   ]
  },
  {
   "cell_type": "raw",
   "id": "ea5b368a-2d83-4032-b9c9-dc0c1427da7c",
   "metadata": {},
   "source": [
    "Ques 9: How do you make a function variable refer to the global variable?\n",
    "\n",
    "Answer:\n",
    "# By using global statement, a function variable refer to the global variable."
   ]
  },
  {
   "cell_type": "raw",
   "id": "c96e3f1d-22ea-4205-963f-79023f4cf283",
   "metadata": {},
   "source": [
    "Ques 10: What is the data type of None?\n",
    "\n",
    "Answer:\n",
    "# The data type of None is None Type."
   ]
  },
  {
   "cell_type": "raw",
   "id": "c2393eb3-fc42-473b-bb17-a4a487d278cc",
   "metadata": {},
   "source": [
    "Ques 11: What does the sentence import areallyourpetsnamederic do?\n",
    "\n",
    "Answer:\n",
    "# import statement imports a module named areallyourpetsnamederic."
   ]
  },
  {
   "cell_type": "raw",
   "id": "c9dce7ac-14fd-454d-b311-ab70b9641153",
   "metadata": {},
   "source": [
    "Ques 12: If you had a bacon() feature in a spam module, what would you call it after importing spam?\n",
    "\n",
    "Answer:\n",
    "# spam.bacon()"
   ]
  },
  {
   "cell_type": "raw",
   "id": "29091474-69e2-41b9-9100-38a752e12e71",
   "metadata": {},
   "source": [
    "Ques 13: What can you do to save a programme from crashing if it encounters an error?\n",
    "\n",
    "Answer:\n",
    "# Place the line of code in the try clause, when it causes an error."
   ]
  },
  {
   "cell_type": "raw",
   "id": "cc6f7811-71cb-407a-a441-1ac0e189c8b1",
   "metadata": {},
   "source": [
    "Ques 14: What is the purpose of the try clause? What is the purpose of the except clause?\n",
    "\n",
    "Answer:\n",
    "# The purpose of try clause is testing the block of code for errors.\n",
    "\n",
    "# The purpose of except clause is to handle the error."
   ]
  }
 ],
 "metadata": {
  "kernelspec": {
   "display_name": "Python 3 (ipykernel)",
   "language": "python",
   "name": "python3"
  },
  "language_info": {
   "codemirror_mode": {
    "name": "ipython",
    "version": 3
   },
   "file_extension": ".py",
   "mimetype": "text/x-python",
   "name": "python",
   "nbconvert_exporter": "python",
   "pygments_lexer": "ipython3",
   "version": "3.10.6"
  }
 },
 "nbformat": 4,
 "nbformat_minor": 5
}
