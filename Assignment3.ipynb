{
 "cells": [
  {
   "cell_type": "code",
   "execution_count": null,
   "id": "654b2857-22aa-4e46-819d-97d456caa759",
   "metadata": {},
   "outputs": [],
   "source": [
    "# Ques 1: Why are functions advantageous to have in your programs?\n",
    "\n",
    "'''\n",
    "Answer: \n",
    "# Once we write a code into the function we can use it wherever we want by simply call\n",
    "  the function to execute instead of re-write the code again and again.\n",
    "        \n",
    "# Also it keeps the code more readable.\n",
    "        \n",
    "# It breaks long programs into smaller component.\n",
    "'''"
   ]
  },
  {
   "cell_type": "code",
   "execution_count": null,
   "id": "b66e7e56-eb66-49fa-8e8a-4ca11f5a31fc",
   "metadata": {},
   "outputs": [],
   "source": [
    "# Ques 2: When does the code in a function run: when it's specified or when it's called?\n",
    "\n",
    "'''\n",
    "Answer:\n",
    "# The code in a function executes when we call the function. It will not execute when we defined the function.\n",
    "'''"
   ]
  },
  {
   "cell_type": "code",
   "execution_count": null,
   "id": "abf3997c-10da-4ee4-a2ea-7dcd89c2f89f",
   "metadata": {},
   "outputs": [],
   "source": [
    "# Ques 3: What statement creates a function?\n",
    "\n",
    "'''\n",
    "Answer:\n",
    "# We define a function by using def keyword followed by the function name, parentheses and a colon.\n",
    "'''"
   ]
  },
  {
   "cell_type": "code",
   "execution_count": null,
   "id": "be3b7d38-d5ca-4260-b269-b135ffcaae21",
   "metadata": {},
   "outputs": [],
   "source": [
    "# Ques 4: What is the difference between a function and a function call?\n",
    "\n",
    "'''\n",
    "Answer:\n",
    "# Function means where we store a specific code. It is not neccessary to re-write the code again.\n",
    "\n",
    "# Function call means to execute a specific code which is stored in the function, we need to call the function. Unless \n",
    "  it will not execute.\n",
    "'''"
   ]
  },
  {
   "cell_type": "code",
   "execution_count": null,
   "id": "bb0f8f5e-2cc8-42fa-8109-e04b59189003",
   "metadata": {},
   "outputs": [],
   "source": [
    "# Ques 5: How many global scopes are there in a Python program? How many local scopes?\n",
    "\n",
    "'''\n",
    "Answer:\n",
    "# There is one global scope. Local scope which are defined inside the function and belong only to that particular function.\n",
    "  It will not work outside the function.\n",
    "'''"
   ]
  },
  {
   "cell_type": "code",
   "execution_count": null,
   "id": "b2f6f286-60c2-4180-abfb-5257e053bc6c",
   "metadata": {},
   "outputs": [],
   "source": [
    "# Ques 6: What happens to variables in a local scope when the function call returns?\n",
    "\n",
    "'''\n",
    "Answer:\n",
    "# When the function call returns, the local scopes are destroyed. All the variable inside the function are lost.\n",
    "'''"
   ]
  },
  {
   "cell_type": "code",
   "execution_count": null,
   "id": "483ecdfe-a651-42ce-a971-a78e2b9cbeb8",
   "metadata": {},
   "outputs": [],
   "source": [
    "# Ques 7: What is the concept of a return value? Is it possible to have a return value in an expression?\n",
    "\n",
    "'''\n",
    "Answer:\n",
    "# A return value is a value that a function returns to the calling function when it completes its task. \n",
    "  The return value can be used in other parts of the program.\n",
    "\n",
    "# Return value can be used as a part of an expression.\n",
    "'''"
   ]
  },
  {
   "cell_type": "code",
   "execution_count": null,
   "id": "3c77353a-05fd-4546-aabd-be7fcffff2e3",
   "metadata": {},
   "outputs": [],
   "source": [
    "# Ques 8: If a function does not have a return statement, what is the return value of a call to that function?\n",
    "\n",
    "'''\n",
    "Answer:\n",
    "# If there is no return statement, it returns None.\n",
    "'''"
   ]
  },
  {
   "cell_type": "code",
   "execution_count": null,
   "id": "78790c40-b9f6-4f86-9956-6e02e5c56e98",
   "metadata": {},
   "outputs": [],
   "source": [
    "# Ques 9: How do you make a function variable refer to the global variable?\n",
    "\n",
    "'''\n",
    "Answer:\n",
    "# By using global statement, a function variable refer to the global variable.\n",
    "'''"
   ]
  },
  {
   "cell_type": "code",
   "execution_count": null,
   "id": "36904563-8988-44b1-ade6-63f0429f8d8d",
   "metadata": {},
   "outputs": [],
   "source": [
    "# Ques 10: What is the data type of None?\n",
    "\n",
    "'''\n",
    "Answer:\n",
    "# The data type of None is None Type.\n",
    "'''"
   ]
  },
  {
   "cell_type": "code",
   "execution_count": null,
   "id": "6ee28a6e-06b0-42b2-9fe2-36f7913bfe82",
   "metadata": {},
   "outputs": [],
   "source": [
    "# Ques 11: What does the sentence import areallyourpetsnamederic do?\n",
    "\n",
    "'''\n",
    "Answer:\n",
    "# import statement imports a module named areallyourpetsnamederic.\n",
    "'''"
   ]
  },
  {
   "cell_type": "code",
   "execution_count": null,
   "id": "4a445a36-1dc6-411a-ae15-deb23280db0c",
   "metadata": {},
   "outputs": [],
   "source": [
    "# Ques 12: If you had a bacon() feature in a spam module, what would you call it after importing spam?\n",
    "\n",
    "'''\n",
    "Answer:\n",
    "# spam.bacon()\n",
    "'''"
   ]
  },
  {
   "cell_type": "code",
   "execution_count": null,
   "id": "3b1cad5e-56ab-4375-a17d-c8b4f99ff4f7",
   "metadata": {},
   "outputs": [],
   "source": [
    "# Ques 13: What can you do to save a programme from crashing if it encounters an error?\n",
    "\n",
    "'''\n",
    "Answer:\n",
    "# Place the line of code in the try clause, when it causes an error.\n",
    "'''"
   ]
  },
  {
   "cell_type": "code",
   "execution_count": null,
   "id": "436c0401-31f8-4686-89b2-b77ee52a5c54",
   "metadata": {},
   "outputs": [],
   "source": [
    "# Ques 14: What is the purpose of the try clause? What is the purpose of the except clause?\n",
    "\n",
    "'''\n",
    "Answer:\n",
    "# The purpose of try clause is testing the block of code for errors.\n",
    "\n",
    "# The purpose of except clause is to handle the error.\n",
    "'''"
   ]
  }
 ],
 "metadata": {
  "kernelspec": {
   "display_name": "Python 3 (ipykernel)",
   "language": "python",
   "name": "python3"
  },
  "language_info": {
   "codemirror_mode": {
    "name": "ipython",
    "version": 3
   },
   "file_extension": ".py",
   "mimetype": "text/x-python",
   "name": "python",
   "nbconvert_exporter": "python",
   "pygments_lexer": "ipython3",
   "version": "3.10.6"
  }
 },
 "nbformat": 4,
 "nbformat_minor": 5
}
