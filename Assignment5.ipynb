{
 "cells": [
  {
   "cell_type": "code",
   "execution_count": null,
   "id": "722fb4e3-c704-4a7f-9959-9ea545da8ba6",
   "metadata": {},
   "outputs": [],
   "source": [
    "# Ques 1: What does an empty dictionary's code look like?\n",
    "\n",
    "'''\n",
    "Answer:\n",
    "\n",
    "{} empty curly braces.\n",
    "'''"
   ]
  },
  {
   "cell_type": "code",
   "execution_count": 1,
   "id": "dc45071d-c9d0-4737-8497-14a0ba3fd625",
   "metadata": {},
   "outputs": [
    {
     "data": {
      "text/plain": [
       "{'foo': 42}"
      ]
     },
     "execution_count": 1,
     "metadata": {},
     "output_type": "execute_result"
    }
   ],
   "source": [
    "# Ques 2: What is the value of a dictionary value with the key 'foo' and the value 42?\n",
    "\n",
    "# Answer:\n",
    "\n",
    "dic = {'foo' : 42}\n",
    "dic"
   ]
  },
  {
   "cell_type": "code",
   "execution_count": null,
   "id": "accf6b59-f55d-4683-bca3-dd5d6e62c139",
   "metadata": {},
   "outputs": [],
   "source": [
    "# Ques 3: What is the most significant distinction between a dictionary and a list?\n",
    "\n",
    "'''\n",
    "Answer:\n",
    "# List contains value seperated by comma inside the square bracket.\n",
    "\n",
    "# Dictionary is a collection of key and value pairs inside the curly braces.\n",
    "'''"
   ]
  },
  {
   "cell_type": "code",
   "execution_count": 2,
   "id": "d30d8f4b-5d12-4924-97af-ac7999245dff",
   "metadata": {},
   "outputs": [
    {
     "ename": "KeyError",
     "evalue": "'foo'",
     "output_type": "error",
     "traceback": [
      "\u001b[0;31m---------------------------------------------------------------------------\u001b[0m",
      "\u001b[0;31mKeyError\u001b[0m                                  Traceback (most recent call last)",
      "Cell \u001b[0;32mIn [2], line 7\u001b[0m\n\u001b[1;32m      1\u001b[0m \u001b[38;5;66;03m# Ques 4: What happens if you try to access spam['foo'] if spam is {'bar': 100}?\u001b[39;00m\n\u001b[1;32m      2\u001b[0m \n\u001b[1;32m      3\u001b[0m \u001b[38;5;66;03m# Answer:\u001b[39;00m\n\u001b[1;32m      4\u001b[0m \u001b[38;5;66;03m# It shows key error.\u001b[39;00m\n\u001b[1;32m      6\u001b[0m spam \u001b[38;5;241m=\u001b[39m {\u001b[38;5;124m'\u001b[39m\u001b[38;5;124mbar\u001b[39m\u001b[38;5;124m'\u001b[39m : \u001b[38;5;241m100\u001b[39m}\n\u001b[0;32m----> 7\u001b[0m \u001b[43mspam\u001b[49m\u001b[43m[\u001b[49m\u001b[38;5;124;43m'\u001b[39;49m\u001b[38;5;124;43mfoo\u001b[39;49m\u001b[38;5;124;43m'\u001b[39;49m\u001b[43m]\u001b[49m\n",
      "\u001b[0;31mKeyError\u001b[0m: 'foo'"
     ]
    }
   ],
   "source": [
    "# Ques 4: What happens if you try to access spam['foo'] if spam is {'bar': 100}?\n",
    "\n",
    "# Answer:\n",
    "# It shows KeyError. Because 'foo' key is not defined in spam.\n",
    "\n",
    "spam = {'bar' : 100}\n",
    "spam['foo']"
   ]
  },
  {
   "cell_type": "code",
   "execution_count": 5,
   "id": "bf56ae35-fcdc-4296-8479-a771d2b5fd08",
   "metadata": {},
   "outputs": [
    {
     "name": "stdout",
     "output_type": "stream",
     "text": [
      "True\n",
      "True\n"
     ]
    }
   ],
   "source": [
    "# Ques 5: If a dictionary is stored in spam, \n",
    "        # what is the difference between the expressions 'cat' in spam and 'cat' in spam.keys()?\n",
    "    \n",
    "'''\n",
    "Answer:\n",
    "# There is no any difference.\n",
    "  Both checks whether 'cat' key is present in the spam dictionary.\n",
    "'''\n",
    "\n",
    "spam = {'cat' : 7}\n",
    "print('cat' in spam)\n",
    "print('cat' in spam.keys())"
   ]
  },
  {
   "cell_type": "code",
   "execution_count": 6,
   "id": "ad8ffb8a-d5f3-40de-a318-addd7fc36364",
   "metadata": {},
   "outputs": [
    {
     "name": "stdout",
     "output_type": "stream",
     "text": [
      "True\n",
      "False\n"
     ]
    }
   ],
   "source": [
    "# Ques 6: If a dictionary is stored in spam, \n",
    "        # what is the difference between the expressions 'cat' in spam and 'cat' in spam.values()?\n",
    "    \n",
    "\n",
    "#Answer:\n",
    "# 'cat' in spam checks whether the key 'cat' is present in the dictionary.\n",
    "\n",
    "print('cat' in spam)\n",
    "\n",
    "# 'cat' in spam.values() checks whether the value 'cat' is for any one of the key in the dictionary.\n",
    "\n",
    "print('cat' in spam.values())\n"
   ]
  },
  {
   "cell_type": "code",
   "execution_count": 8,
   "id": "6edd5a1d-2dda-4af5-ad22-fbc2acb63cd1",
   "metadata": {},
   "outputs": [
    {
     "data": {
      "text/plain": [
       "{'cat': 7, 'color': 'black'}"
      ]
     },
     "execution_count": 8,
     "metadata": {},
     "output_type": "execute_result"
    }
   ],
   "source": [
    "# Ques 7: What is a shortcut for the following code?\n",
    "#         if 'color' not in spam:\n",
    "#         spam['color'] = 'black'\n",
    "\n",
    "# Answer:\n",
    "\n",
    "spam.setdefault('color' , 'black')\n",
    "spam"
   ]
  },
  {
   "cell_type": "code",
   "execution_count": 9,
   "id": "caec94b0-42c3-4179-9725-7a7a007e3426",
   "metadata": {},
   "outputs": [
    {
     "name": "stdout",
     "output_type": "stream",
     "text": [
      "{'College': 'Gov College', 'DOB': '10/10/1994', 'Name': 'Saran'}\n"
     ]
    }
   ],
   "source": [
    "# Ques 8: How do you \"pretty print\" dictionary values using which module and function?\n",
    "\n",
    "# Answer:\n",
    "# It is used to print the data in a readable manner.\n",
    "\n",
    "import pprint\n",
    "\n",
    "dictionary = {'Name' : 'Saran', 'DOB' : '10/10/1994', 'College' : 'Gov College'}\n",
    "pprint.pprint(dictionary)"
   ]
  }
 ],
 "metadata": {
  "kernelspec": {
   "display_name": "Python 3 (ipykernel)",
   "language": "python",
   "name": "python3"
  },
  "language_info": {
   "codemirror_mode": {
    "name": "ipython",
    "version": 3
   },
   "file_extension": ".py",
   "mimetype": "text/x-python",
   "name": "python",
   "nbconvert_exporter": "python",
   "pygments_lexer": "ipython3",
   "version": "3.10.6"
  }
 },
 "nbformat": 4,
 "nbformat_minor": 5
}
