{
 "cells": [
  {
   "cell_type": "code",
   "execution_count": null,
   "id": "a09132b2-e09e-4201-ab9c-d30dea58487a",
   "metadata": {},
   "outputs": [],
   "source": [
    "# Ques 1: What exactly is []?\n",
    "\n",
    "'''\n",
    "Answer:\n",
    "# [] means an empty list. The value of an empty list contains no items.\n",
    "'''"
   ]
  },
  {
   "cell_type": "code",
   "execution_count": 5,
   "id": "7a6c63df-70cd-4429-b487-0dfc466b53f6",
   "metadata": {},
   "outputs": [
    {
     "name": "stdout",
     "output_type": "stream",
     "text": [
      "[2, 4, 'hello', 8, 10]\n"
     ]
    }
   ],
   "source": [
    "# Ques 2: In a list of values stored in a variable called spam, \n",
    "        # how would you assign the value 'hello' as the third value? (Assume [2, 4, 6, 8, 10] are in spam.)\n",
    "    \n",
    "# Answer:\n",
    "\n",
    "spam = [2, 4, 6, 8, 10]\n",
    "spam[2] = 'hello'\n",
    "print(spam)"
   ]
  },
  {
   "cell_type": "markdown",
   "id": "ac44ffdb-102d-4feb-940b-99d1924478b2",
   "metadata": {},
   "source": [
    "# Let's pretend the spam includes the list ['a', 'b', 'c', 'd'] for the next three queries."
   ]
  },
  {
   "cell_type": "code",
   "execution_count": 6,
   "id": "656c868e-6eef-4eb1-986d-87b86c626468",
   "metadata": {},
   "outputs": [
    {
     "data": {
      "text/plain": [
       "'d'"
      ]
     },
     "execution_count": 6,
     "metadata": {},
     "output_type": "execute_result"
    }
   ],
   "source": [
    "# Ques 3: What is the value of spam[int(int('3' * 2) / 11)]?\n",
    "\n",
    "# Answer:\n",
    "\n",
    "spam = ['a','b','c','d']\n",
    "spam[int(int('3' * 2) / 11)]\n",
    "\n",
    "# Here 1st the string ('3' * 2) becomes 33.\n",
    "# Next int(33 / 11) becomes 3.\n",
    "# Finally the 3rd index of the spam is 'd'."
   ]
  },
  {
   "cell_type": "code",
   "execution_count": 7,
   "id": "96fc806e-0f77-44f7-a966-b7ecaada8802",
   "metadata": {},
   "outputs": [
    {
     "data": {
      "text/plain": [
       "'d'"
      ]
     },
     "execution_count": 7,
     "metadata": {},
     "output_type": "execute_result"
    }
   ],
   "source": [
    "# Ques 4: What is the value of spam[-1]?\n",
    "\n",
    "#Answer:\n",
    "\n",
    "spam[-1]\n",
    "\n",
    "# Negative index starts from the right end side (-1,-2,-3..,)"
   ]
  },
  {
   "cell_type": "code",
   "execution_count": 8,
   "id": "81060da4-bf19-49f9-93de-77fff815a2a6",
   "metadata": {},
   "outputs": [
    {
     "data": {
      "text/plain": [
       "['a', 'b']"
      ]
     },
     "execution_count": 8,
     "metadata": {},
     "output_type": "execute_result"
    }
   ],
   "source": [
    "# Ques 5: What is the value of spam[:2]?\n",
    "\n",
    "# Answer:\n",
    "\n",
    "spam[:2]\n",
    "\n",
    "# If we didn't mention the starting index, then it will automatically consider as 0."
   ]
  },
  {
   "cell_type": "markdown",
   "id": "01cd68c1-bd58-4d73-8f33-ffa3425a9ea3",
   "metadata": {},
   "source": [
    "# Let's pretend bacon has the list [3.14, 'cat,' 11, 'cat,' True] for the next three questions."
   ]
  },
  {
   "cell_type": "code",
   "execution_count": 9,
   "id": "5558e8a0-5716-48c6-9901-30a8c10d6f3b",
   "metadata": {},
   "outputs": [
    {
     "data": {
      "text/plain": [
       "1"
      ]
     },
     "execution_count": 9,
     "metadata": {},
     "output_type": "execute_result"
    }
   ],
   "source": [
    "# Ques 6: What is the value of bacon.index('cat')?\n",
    "\n",
    "# Answer:\n",
    "\n",
    "bacon = [3.14, 'cat', 11, 'cat', True]\n",
    "\n",
    "bacon.index('cat')\n",
    "\n",
    "# 'cat' is the second item means the 1st index."
   ]
  },
  {
   "cell_type": "code",
   "execution_count": 10,
   "id": "d1d8f7c5-8d3a-4c8e-8e86-787b294cb6fb",
   "metadata": {},
   "outputs": [
    {
     "data": {
      "text/plain": [
       "[3.14, 'cat', 11, 'cat', True, 99]"
      ]
     },
     "execution_count": 10,
     "metadata": {},
     "output_type": "execute_result"
    }
   ],
   "source": [
    "# Ques 7: How does bacon.append(99) change the look of the list value in bacon?\n",
    "\n",
    "# Answer:\n",
    "\n",
    "bacon.append(99)\n",
    "bacon\n",
    "\n",
    "# append means add the items at the last."
   ]
  },
  {
   "cell_type": "code",
   "execution_count": 11,
   "id": "20cdb498-ffa9-405b-88f4-9e2dee91019b",
   "metadata": {},
   "outputs": [
    {
     "data": {
      "text/plain": [
       "[3.14, 11, 'cat', True, 99]"
      ]
     },
     "execution_count": 11,
     "metadata": {},
     "output_type": "execute_result"
    }
   ],
   "source": [
    "# Ques 8: How does bacon.remove('cat') change the look of the list in bacon?\n",
    "\n",
    "# Answer:\n",
    "\n",
    "bacon.remove('cat')\n",
    "bacon"
   ]
  },
  {
   "cell_type": "code",
   "execution_count": null,
   "id": "d8527af2-2018-4673-8e9c-4f12d1b3bc50",
   "metadata": {},
   "outputs": [],
   "source": [
    "# Ques 9: What are the list concatenation and list replication operators?\n",
    "\n",
    "'''\n",
    "Answer:\n",
    "# List concatenation is used to concatenate two lists. + operator is used for concatenation.\n",
    "  Items in both list appears in the new list.\n",
    "\n",
    "# List replication is used to copy the list several times and concatenate together. * operator is used for replication.\n",
    "  The number of times is mentioned by an integer. ex: list * 2 (it copies 2 times and concatenate.)\n",
    "'''"
   ]
  },
  {
   "cell_type": "code",
   "execution_count": 19,
   "id": "77cdc504-a185-416b-af9d-0ba61a3b7034",
   "metadata": {},
   "outputs": [
    {
     "name": "stdout",
     "output_type": "stream",
     "text": [
      "[1, 2, 3, 4, 5]\n",
      "[1, 2, 3, 4, 5]\n"
     ]
    }
   ],
   "source": [
    "# Ques 10: What is difference between the list methods append() and insert()?\n",
    "\n",
    "'''\n",
    "Answer:\n",
    "# append() means add values at the end of the list.\n",
    "\n",
    "# insert() means add values at anywhere in the list.\n",
    "'''\n",
    "\n",
    "list = [1,2,3,4]\n",
    "list.append(5)\n",
    "print(list)\n",
    "\n",
    "list2 = [1,3,4,5]\n",
    "list2.insert(1,2)\n",
    "print(list2)"
   ]
  },
  {
   "cell_type": "code",
   "execution_count": 21,
   "id": "ec52c318-bc7b-435c-97c3-17093e2be388",
   "metadata": {},
   "outputs": [
    {
     "name": "stdout",
     "output_type": "stream",
     "text": [
      "[1, 3, 5, 7]\n",
      "[2, 6, 8]\n"
     ]
    }
   ],
   "source": [
    "# Ques 11: What are the two methods for removing items from a list?\n",
    "\n",
    "# Answer:\n",
    "# one is del statement.\n",
    "\n",
    "a1 = [1,2,3,5,7]\n",
    "del a1[1]\n",
    "print(a1)\n",
    "\n",
    "# Scond one is remove() method.\n",
    "\n",
    "a = [2,4,6,8]\n",
    "a.remove(4)\n",
    "print(a)"
   ]
  },
  {
   "cell_type": "code",
   "execution_count": null,
   "id": "391ca0ef-c2c9-4ccf-98bd-30c7f5afbc27",
   "metadata": {},
   "outputs": [],
   "source": [
    "# Ques 12: Describe how list values and string values are identical.\n",
    "\n",
    "'''\n",
    "Answer:\n",
    "# Both the list and strings have indexes and slices.\n",
    "  Both can be concatenated and replicated.\n",
    "  Both can be used in for loop.\n",
    "  In both 'in' and 'not in' operators are used.\n",
    "'''"
   ]
  },
  {
   "cell_type": "code",
   "execution_count": null,
   "id": "805024af-a4f0-4da3-95d1-514b95bf0e2f",
   "metadata": {},
   "outputs": [],
   "source": [
    "# Ques 13: What's the difference between tuples and lists?\n",
    "\n",
    "'''\n",
    "Answer:\n",
    "# List values are inside the square bracket [].\n",
    "  Lists are mutable means we can add, edit, and remove the values.\n",
    "  \n",
    "# Tuple values are inside the parentheses ().\n",
    "  Tuples are immutable means we cannot change the values at all.\n",
    "'''"
   ]
  },
  {
   "cell_type": "code",
   "execution_count": null,
   "id": "e3dbdec9-859f-45d2-abb5-a7471ce4efa8",
   "metadata": {},
   "outputs": [],
   "source": [
    "# Ques 14: How do you type a tuple value that only contains the integer 42?\n",
    "\n",
    "'''\n",
    "Answer:\n",
    "\n",
    "(42,) comma is mandatory.\n",
    "'''"
   ]
  },
  {
   "cell_type": "code",
   "execution_count": null,
   "id": "256668a4-af34-4bde-a6fa-22a721be2fde",
   "metadata": {},
   "outputs": [],
   "source": [
    "# Ques 15: How do you get a list value's tuple form? How do you get a tuple value's list form?\n",
    "\n",
    "'''\n",
    "Answer:\n",
    "# Using tuple() built-in function.\n",
    "\n",
    "# Using list() built-in function.\n",
    "'''"
   ]
  },
  {
   "cell_type": "code",
   "execution_count": null,
   "id": "5ee7af11-6c8c-42ad-b73a-fc74214b8228",
   "metadata": {},
   "outputs": [],
   "source": [
    "# Ques 16: Variables that \"contain\" list values are not necessarily lists themselves. Instead, what do they contain?\n",
    "\n",
    "'''\n",
    "Answer:\n",
    "# They contain references to list values.\n",
    "'''"
   ]
  },
  {
   "cell_type": "code",
   "execution_count": null,
   "id": "bbf32292-9942-42a6-9710-9ff7a82e3f65",
   "metadata": {},
   "outputs": [],
   "source": [
    "# Ques 17: How do you distinguish between copy.copy() and copy.deepcopy()?\n",
    "\n",
    "'''\n",
    "Answer:\n",
    "# copy.copy() \n",
    "  A shallow copy creates a new object which stores the reference of the original elements.\n",
    "\n",
    "# copy.deepcopy() \n",
    "  A deep copy creates a new object and recursively adds the copies of nested objects present in the original elements.\n",
    "'''"
   ]
  }
 ],
 "metadata": {
  "kernelspec": {
   "display_name": "Python 3 (ipykernel)",
   "language": "python",
   "name": "python3"
  },
  "language_info": {
   "codemirror_mode": {
    "name": "ipython",
    "version": 3
   },
   "file_extension": ".py",
   "mimetype": "text/x-python",
   "name": "python",
   "nbconvert_exporter": "python",
   "pygments_lexer": "ipython3",
   "version": "3.10.6"
  }
 },
 "nbformat": 4,
 "nbformat_minor": 5
}
