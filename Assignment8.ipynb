{
 "cells": [
  {
   "cell_type": "code",
   "execution_count": 8,
   "id": "d1ac51b9-3e93-4b32-acb1-9dce5c6c7c7a",
   "metadata": {},
   "outputs": [
    {
     "name": "stdout",
     "output_type": "stream",
     "text": [
      "Success\n",
      "The sum of two numbers is 10\n"
     ]
    }
   ],
   "source": [
    "#Ques 1: In Python, what is the difference between a built-in function and a user-defined function? \n",
    "#        Provide an example of each.\n",
    "\n",
    "'''\n",
    "Answer:\n",
    "# Built-in function - In python, there are many functions are pre-defined that are readily available to use \n",
    "                      is known as built-in function.\n",
    "'''\n",
    "\n",
    "print('Success')   # here print() is a built-in function which is used to print the given object.\n",
    "\n",
    "\n",
    "'''\n",
    "# User-defined function - We can define a function ourselves to do a specific task is known as user-defined function.\n",
    "                          To execute, we need to define and call the function.\n",
    "                          def keyword followed by the function name and then followed by the parentheses.\n",
    "'''\n",
    "\n",
    "def add_number(x,y):\n",
    "    add = x + y\n",
    "    return add\n",
    "result = add_number(5,5)\n",
    "print('The sum of two numbers is', result)\n"
   ]
  },
  {
   "cell_type": "code",
   "execution_count": null,
   "id": "23f1c689-a865-4e63-a2df-4fa5235294a4",
   "metadata": {},
   "outputs": [],
   "source": [
    "# Ques 2: How can you pass arguments to a function in Python? \n",
    "#         Explain the difference between positional arguments and keyword arguments.\n",
    "\n",
    "'''\n",
    "Answer:\n",
    "# Passing arguments to a function is a value that are sent to the function when it is called.\n",
    "\n",
    "# Positional arguments - An arguments are passed in the order of the parameter defined. If it is not in order,\n",
    "                         then it will give different output.\n",
    "                         \n",
    "# Keyword arguments    - An arguments are passed to the parameter to call the function. Here there is not neccessary\n",
    "                         to pass an argument in the same order as parameter defined.\n",
    "'''"
   ]
  },
  {
   "cell_type": "code",
   "execution_count": 10,
   "id": "8188bb36-6198-44d3-87d0-0700de969bfd",
   "metadata": {},
   "outputs": [
    {
     "name": "stdout",
     "output_type": "stream",
     "text": [
      "odd\n"
     ]
    }
   ],
   "source": [
    "# Ques 3: What is the purpose of the return statement in a function? \n",
    "#         Can a function have multiple return statements? Explain with an example.\n",
    "\n",
    "'''\n",
    "Answer:\n",
    "# A return statement ends the processing of the current function and \n",
    "  resume immediately after where the function was called.\n",
    "  \n",
    "# A function can have multiple return statement. \n",
    "  If the one which satisfies the condition will be executed first and exit the function.\n",
    "'''\n",
    "\n",
    "def type_of_integer(n):\n",
    "    if n % 2 == 0:\n",
    "        return 'even'\n",
    "    else:\n",
    "        return 'odd'\n",
    "    \n",
    "result = type_of_integer(9)\n",
    "\n",
    "print(result)"
   ]
  },
  {
   "cell_type": "code",
   "execution_count": 11,
   "id": "614bb9f9-e997-43c6-aa3f-1c215e90a2c0",
   "metadata": {},
   "outputs": [
    {
     "name": "stdout",
     "output_type": "stream",
     "text": [
      "10\n"
     ]
    }
   ],
   "source": [
    "# Ques 4: What are lambda functions in Python? How are they different from regular functions? \n",
    "#         Provide an example where a lambda function can be useful.\n",
    "\n",
    "'''\n",
    "Answer:\n",
    "# Lambda functions are small, anonymous functions defined with the lambda keyword.\n",
    "  Only one expression will be done. The expression will evaluated and returned when the function is called.\n",
    "  \n",
    "# We don't use the parentheses for the parameters in lambda which we use it in the regular functions.\n",
    "  \n",
    "# Lambda functions are used where we want to create a function that will contain only simple expression.\n",
    "'''\n",
    "\n",
    "add = lambda x, y: x + y\n",
    "print(add(7, 3))"
   ]
  },
  {
   "cell_type": "code",
   "execution_count": null,
   "id": "95224042-c6ca-4987-9856-a7e0ef21ee21",
   "metadata": {},
   "outputs": [],
   "source": [
    "# Ques 5: How does the concept of \"scope\" apply to functions in Python? \n",
    "#         Explain the difference between local scope and global scope.\n",
    "\n",
    "'''\n",
    "Answer:\n",
    "# Scope - A variable is only available inside the region it is created is known as scope.\n",
    "\n",
    "# Local scope - A variable created inside the function belongs to the local scope of that function.\n",
    "                It can only be used inside that function.\n",
    "                \n",
    "# Global scope - A variable created in the main body of the code that belongs to the global scope.\n",
    "'''"
   ]
  },
  {
   "cell_type": "code",
   "execution_count": null,
   "id": "92058678-7a53-4ae5-91a3-ce2cac9c94ad",
   "metadata": {},
   "outputs": [],
   "source": [
    "# Ques 6: How can you use the \"return\" statement in a Python function to return multiple values?\n",
    "\n",
    "'''\n",
    "Answer:\n",
    "# We can return multiple values by simply seperating them with the commas in the return statement.\n",
    "'''"
   ]
  },
  {
   "cell_type": "code",
   "execution_count": null,
   "id": "9efd9882-68e1-41b2-aeb5-d6090039dbe0",
   "metadata": {},
   "outputs": [],
   "source": [
    "# Ques 7: What is the difference between the \"pass by value\" and \"pass by reference\" concepts \n",
    "#         when it comes to function arguments in Python?\n",
    "\n",
    "'''\n",
    "Answer:\n",
    "# Pass by value     - Directly passing a value of the variable as an argument.\n",
    "                      So any changes made inside the function does not affect the original value.\n",
    "                  \n",
    "# Pass by reference - Values to the argument of the function are passed by reference means the address of the variable \n",
    "                      is passed and then the operation is done.\n",
    "                      So the original value is modified.\n",
    "'''"
   ]
  },
  {
   "cell_type": "code",
   "execution_count": null,
   "id": "b7924390-9361-436b-bfcd-0a0ad1f31d86",
   "metadata": {},
   "outputs": [],
   "source": [
    "'''\n",
    "Ques 8: Create a function that can intake integer or decimal value and do following operations:\n",
    "a. Logarithmic function (log x)\n",
    "b. Exponential function (exp(x))\n",
    "c. Power function with base 2 (2x)\n",
    "d. Square root\n",
    "'''"
   ]
  },
  {
   "cell_type": "code",
   "execution_count": 1,
   "id": "1da5f83c-8a3a-4112-abdd-cab9890956ea",
   "metadata": {},
   "outputs": [
    {
     "name": "stdout",
     "output_type": "stream",
     "text": [
      "Logarithmic function of 4 is 1.3862943611198906\n",
      "Exponential function of 4 is 54.598150033144236\n",
      "Logarithmic function with base 2 of 4 is 2.0\n",
      "Square root of 4 is 2.0\n"
     ]
    }
   ],
   "source": [
    "def operations(x):\n",
    "    import math\n",
    "    log_func = math.log(x)\n",
    "    print('Logarithmic function of', x, 'is', log_func)\n",
    "    Exp_func = math.exp(x)\n",
    "    print('Exponential function of', x, 'is', Exp_func)\n",
    "    Log_with_base_2 = math.log2(x)\n",
    "    print('Logarithmic function with base 2 of', x, 'is', Log_with_base_2)\n",
    "    Square_root = math.sqrt(x)\n",
    "    print('Square root of', x, 'is', Square_root)\n",
    "\n",
    "operations(4)"
   ]
  },
  {
   "cell_type": "code",
   "execution_count": 2,
   "id": "b3605594-97ad-4224-933c-c0b86ad44743",
   "metadata": {},
   "outputs": [
    {
     "data": {
      "text/plain": [
       "'Palani Saran'"
      ]
     },
     "execution_count": 2,
     "metadata": {},
     "output_type": "execute_result"
    }
   ],
   "source": [
    "# Ques 9: Create a function that takes a full name as an argument and returns first name and last name.\n",
    "\n",
    "def name(FirstName,LastName):\n",
    "    full_name = FirstName + ' ' + LastName\n",
    "    return full_name\n",
    "name('Palani','Saran')"
   ]
  }
 ],
 "metadata": {
  "kernelspec": {
   "display_name": "Python 3 (ipykernel)",
   "language": "python",
   "name": "python3"
  },
  "language_info": {
   "codemirror_mode": {
    "name": "ipython",
    "version": 3
   },
   "file_extension": ".py",
   "mimetype": "text/x-python",
   "name": "python",
   "nbconvert_exporter": "python",
   "pygments_lexer": "ipython3",
   "version": "3.10.6"
  }
 },
 "nbformat": 4,
 "nbformat_minor": 5
}
