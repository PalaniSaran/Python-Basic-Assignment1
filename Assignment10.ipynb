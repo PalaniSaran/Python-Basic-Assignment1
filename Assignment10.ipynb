{
 "cells": [
  {
   "cell_type": "code",
   "execution_count": null,
   "id": "9a062fd8-e925-405a-a789-68aedaf83a14",
   "metadata": {},
   "outputs": [],
   "source": [
    "# Ques 1: What is the role of try and exception block?\n",
    "\n",
    "'''\n",
    "Answer:\n",
    "# try block - It is used to test a block of code of errors.\n",
    "\n",
    "# exception block - It is used to handle the error.\n",
    "'''"
   ]
  },
  {
   "cell_type": "code",
   "execution_count": 1,
   "id": "eeb991d8-4a11-418a-b2cc-d83df1dc1e5e",
   "metadata": {},
   "outputs": [
    {
     "name": "stdin",
     "output_type": "stream",
     "text": [
      "Enter a number:  50\n"
     ]
    },
    {
     "name": "stdout",
     "output_type": "stream",
     "text": [
      "100\n"
     ]
    }
   ],
   "source": [
    "# Ques 2: What is the syntax for a basic try-except block?\n",
    "\n",
    "try:\n",
    "    x = int(input('Enter a number: '))\n",
    "    add = x + 50\n",
    "    print(add)\n",
    "except:\n",
    "    print('Invalid input')"
   ]
  },
  {
   "cell_type": "code",
   "execution_count": null,
   "id": "9ca9cbd8-f83e-4250-a0d3-f106e32a96da",
   "metadata": {},
   "outputs": [],
   "source": [
    "# Ques 3: What happens if an exception occurs inside a try block and there is no matching except block?\n",
    "\n",
    "'''\n",
    "Answer:\n",
    "# If an exception occurs inside the try block, even when there's no matching block to handle the exception, \n",
    "  the finally block still executes. \n",
    "'''"
   ]
  },
  {
   "cell_type": "code",
   "execution_count": null,
   "id": "2ee0555a-4ff2-45d1-8120-ae9c4f5795d0",
   "metadata": {},
   "outputs": [],
   "source": [
    "# Ques 4: What is the difference between using a bare except block and specifying a specific exception type?\n",
    "\n",
    "'''\n",
    "Answer:\n",
    "# Bare except - It will catch any and all exceptions. We dont know which exception are catching.\n",
    "                Bare except is equivalent to except BaseException\n",
    "                \n",
    "# Specific exception - It will catch the subclasses of exception. We know which type of exception we are trying to catch.\n",
    "'''"
   ]
  },
  {
   "cell_type": "code",
   "execution_count": 28,
   "id": "68ced5cb-2243-4416-9820-a7e5f09c3b1e",
   "metadata": {},
   "outputs": [
    {
     "name": "stdout",
     "output_type": "stream",
     "text": [
      "5\n",
      "Number cannot divided by Zero.\n"
     ]
    }
   ],
   "source": [
    "# Ques 5: Can you have nested try-except blocks in Python? If yes, then give an example.\n",
    "\n",
    "\n",
    "'''\n",
    "Answer:\n",
    "Yes, We can have nested try-except blocks in python.\n",
    "'''\n",
    "\n",
    "x = 10\n",
    "y = 0\n",
    "z = [1,2,3,4,5] \n",
    "\n",
    "try:\n",
    "    print(z[4])\n",
    "    try:\n",
    "        print(x / y)\n",
    "    except IndexError:\n",
    "        print('Specified Index is out of range.')\n",
    "except ZeroDivisionError:\n",
    "    print('Number cannot divided by Zero.')"
   ]
  },
  {
   "cell_type": "code",
   "execution_count": 16,
   "id": "00ceb330-ecc7-4efa-97b5-f300406f7ea5",
   "metadata": {},
   "outputs": [
    {
     "name": "stdin",
     "output_type": "stream",
     "text": [
      "Enter the numerator :  10\n",
      "Enter the denominator :  2\n"
     ]
    },
    {
     "name": "stdout",
     "output_type": "stream",
     "text": [
      "Specified index is out of range.\n"
     ]
    }
   ],
   "source": [
    "# Ques 6: Can we use multiple exception blocks, if yes then give an example.\n",
    "\n",
    "'''\n",
    "Answer:\n",
    "# Yes, we can use multiple exception blocks.\n",
    "'''\n",
    "\n",
    "numerator = int(input('Enter the numerator : '))\n",
    "denominator = int(input('Enter the denominator : '))\n",
    "lisst = [1,2,3,4,5]\n",
    "\n",
    "try:\n",
    "    d = numerator / denominator\n",
    "    print(lisst[5])\n",
    "except ZeroDivisionError:\n",
    "    print('Numbers cannot divided by Zero.')\n",
    "except IndexError:\n",
    "    print('Specified index is out of range.')"
   ]
  },
  {
   "cell_type": "code",
   "execution_count": null,
   "id": "b190c6c5-4740-466b-b7c5-4776b66323c5",
   "metadata": {},
   "outputs": [],
   "source": [
    "'''\n",
    "Ques 7: Write the reason due to which following errors are raised:\n",
    "a. EOFError\n",
    "b. FloatingPointError\n",
    "c. IndexError\n",
    "d. MemoryError\n",
    "e. OverflowError\n",
    "f. TabError\n",
    "g. ValueError\n",
    "'''\n",
    "\n",
    "# Answer:\n",
    "# a. EOFError           - Raised when the input() function hits an end-of-file condition.\n",
    "# b. FloatingPointError - Raised when the floating point operation fails.\n",
    "# c. IndexError         - Raised when a index is out of range.\n",
    "# d. MemoryError        - Raised when an operation runs out of memory.\n",
    "# e. OverflowError      - Raised when the result of an arithmetic operation is too large to be expressed.\n",
    "# f. TabError           - Raised when indentation contains mixed tabs and spaces.\n",
    "# g. ValueError         - Raised when a function receives an argument of the correct type but an inappropriate value."
   ]
  },
  {
   "cell_type": "code",
   "execution_count": null,
   "id": "ee1d263c-edaa-4518-afe2-2dcef03772fe",
   "metadata": {},
   "outputs": [],
   "source": [
    "'''\n",
    "Ques 8: Write code for the following given scenario and add try-exception block to it.\n",
    "a. Program to divide two numbers.\n",
    "b. Program to convert a string to an integer.\n",
    "c. Program to access an element in a list.\n",
    "d. Program to handle a specific exception.\n",
    "e. Program to handle any exception.\n",
    "'''"
   ]
  },
  {
   "cell_type": "code",
   "execution_count": 5,
   "id": "79483f07-62b9-4a21-a966-39ce5ab5753f",
   "metadata": {},
   "outputs": [
    {
     "name": "stdin",
     "output_type": "stream",
     "text": [
      "Enter the numerator :  55\n",
      "Enter the denominator :  0\n"
     ]
    },
    {
     "name": "stdout",
     "output_type": "stream",
     "text": [
      "Number was not divided by Zero.\n"
     ]
    }
   ],
   "source": [
    "# a. Program to divide two numbers.\n",
    "\n",
    "try:\n",
    "    numerator = int(input('Enter the numerator : '))\n",
    "    denominator = int(input('Enter the denominator : '))\n",
    "    division = numerator / denominator\n",
    "    print(division)\n",
    "except:\n",
    "    print('Number was not divided by Zero.')"
   ]
  },
  {
   "cell_type": "code",
   "execution_count": 6,
   "id": "0ad75bc9-e9f1-4fe5-ba5d-224d934d8eff",
   "metadata": {},
   "outputs": [
    {
     "name": "stdin",
     "output_type": "stream",
     "text": [
      "Enter the string :  77\n"
     ]
    },
    {
     "name": "stdout",
     "output_type": "stream",
     "text": [
      "The converted integer is  77\n"
     ]
    }
   ],
   "source": [
    "# b. Program to convert a string to an integer.\n",
    "\n",
    "string = str(input('Enter the string : '))\n",
    "\n",
    "try:\n",
    "    integer = int(string)\n",
    "    print('The converted integer is ',integer)\n",
    "except:\n",
    "    print('Entered the worng input.')"
   ]
  },
  {
   "cell_type": "code",
   "execution_count": 7,
   "id": "14d05bd0-dd93-4c93-9b98-c698bf82f38d",
   "metadata": {},
   "outputs": [
    {
     "name": "stdout",
     "output_type": "stream",
     "text": [
      "Index is out of range.\n"
     ]
    }
   ],
   "source": [
    "# c. Program to access an element in a list.\n",
    "\n",
    "List = [1,2,3,4,5]\n",
    "\n",
    "try:\n",
    "    print(List[5])\n",
    "except:\n",
    "    print('Index is out of range.')"
   ]
  },
  {
   "cell_type": "code",
   "execution_count": 32,
   "id": "7cfa5473-2d74-423a-a2dc-9b4ff1e6b5de",
   "metadata": {},
   "outputs": [
    {
     "name": "stdin",
     "output_type": "stream",
     "text": [
      "Enter the numerator :  10\n",
      "Enter the denominator :  0\n"
     ]
    },
    {
     "name": "stdout",
     "output_type": "stream",
     "text": [
      "Numbers cannot divided by Zero.\n"
     ]
    }
   ],
   "source": [
    "# d. Program to handle a specific exception.\n",
    "\n",
    "numerator = int(input('Enter the numerator : '))\n",
    "denominator = int(input('Enter the denominator : '))\n",
    "lisst = [1,2,3,4,5]\n",
    "\n",
    "try:\n",
    "    div = numerator / denominator\n",
    "    print(div)\n",
    "    print(lisst[5])\n",
    "except ZeroDivisionError:\n",
    "    print('Numbers cannot divided by Zero.')\n",
    "except IndexError:\n",
    "    print('Specified index is out of range.')"
   ]
  },
  {
   "cell_type": "code",
   "execution_count": 36,
   "id": "a3018e93-2689-44de-9ec5-908483172fa9",
   "metadata": {},
   "outputs": [
    {
     "name": "stdin",
     "output_type": "stream",
     "text": [
      "Enter the numerator :  10\n",
      "Enter the denominator :  2\n"
     ]
    },
    {
     "name": "stdout",
     "output_type": "stream",
     "text": [
      "5.0\n",
      "Exception Raised.\n"
     ]
    }
   ],
   "source": [
    "# e. Program to handle any exception.\n",
    "\n",
    "numerator = int(input('Enter the numerator : '))\n",
    "denominator = int(input('Enter the denominator : '))\n",
    "lisst = [1,2,3,4,5]\n",
    "\n",
    "try:\n",
    "    div = numerator / denominator\n",
    "    print(div)\n",
    "    print(lisst[5])\n",
    "except (ZeroDivisionError,IndexError):\n",
    "    print('Exception Raised.')"
   ]
  },
  {
   "cell_type": "code",
   "execution_count": null,
   "id": "2e3c31e2-6007-47f7-846a-e57c1af3a495",
   "metadata": {},
   "outputs": [],
   "source": []
  }
 ],
 "metadata": {
  "kernelspec": {
   "display_name": "Python 3 (ipykernel)",
   "language": "python",
   "name": "python3"
  },
  "language_info": {
   "codemirror_mode": {
    "name": "ipython",
    "version": 3
   },
   "file_extension": ".py",
   "mimetype": "text/x-python",
   "name": "python",
   "nbconvert_exporter": "python",
   "pygments_lexer": "ipython3",
   "version": "3.10.6"
  }
 },
 "nbformat": 4,
 "nbformat_minor": 5
}
