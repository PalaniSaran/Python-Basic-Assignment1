{
 "cells": [
  {
   "cell_type": "code",
   "execution_count": null,
   "id": "3b603ffb-8059-4f1d-bcb3-145e8d703f9b",
   "metadata": {},
   "outputs": [],
   "source": [
    "# 1. In the below elements which of them are values or an expression? \n",
    "# eg:- values can be integer or string and expressions will be mathematical operators.\n",
    "\n",
    "\"\"\"\n",
    "\n",
    "*        - Expression\n",
    "'hello'  - Value (String)\n",
    "-87.8    - Value\n",
    "-        - Expression\n",
    "/        - Expression\n",
    "+        - Expression\n",
    "6        - Value (integer)\n",
    "\n",
    "\"\"\""
   ]
  },
  {
   "cell_type": "code",
   "execution_count": null,
   "id": "6bb5162c-04b8-41b9-a52b-098636bfd26e",
   "metadata": {},
   "outputs": [],
   "source": [
    "# 2. What is the difference between string and variable?\n",
    "\n",
    "\"\"\"\n",
    "String is a data type which contains alphabets (or) words (or) group of words. Strings are always within the quote.\n",
    "A name (or) identifier given to the data type (string, integer, float, etc...) is known as variable.\n",
    "\n",
    "For example\n",
    "a = 'Success'\n",
    "Here 'a' is a variable and 'Success' is a string type data.\n",
    "\"\"\""
   ]
  },
  {
   "cell_type": "code",
   "execution_count": null,
   "id": "3322542e-67a8-4604-92cf-a864ee0d54c8",
   "metadata": {},
   "outputs": [],
   "source": [
    "# 3. Describe three different data types.\n",
    "\n",
    "\"\"\"\n",
    "INTEGER\n",
    "a = 10  here 'a' ia a variable and the value of 'a' is 10 means integer. Integers are always a whole number.\n",
    "\n",
    "FLOAT\n",
    "a = 10.50 here 'a' ia a variable and the value of 'a' is 10.50 means float. Float contains a value in the decimal format.\n",
    "\n",
    "STRING\n",
    "a = 'Success' here 'a' ia a variable and the value of 'a' is Success means string. \n",
    "     String contains alphabets (or) words (or) group of words\n",
    "\"\"\""
   ]
  },
  {
   "cell_type": "code",
   "execution_count": 5,
   "id": "26dcbd48-0a08-43ac-a9ec-00c1c8a0804f",
   "metadata": {},
   "outputs": [
    {
     "name": "stdout",
     "output_type": "stream",
     "text": [
      "15\n"
     ]
    }
   ],
   "source": [
    "# 4. What is an expression made up of? What do all expressions do?\n",
    "\n",
    "\"\"\"\n",
    "Expression is made up of variable, values and operator. It is used for an evaluate purpose.\n",
    "\"\"\"\n",
    "#For example\n",
    "a = 5 + 10   \n",
    "print(a)\n",
    "\"\"\"\n",
    "Here 'a' is a variable\n",
    "     '5 & 10' is a values\n",
    "     '+' is an operator\n",
    "\"\"\""
   ]
  },
  {
   "cell_type": "code",
   "execution_count": null,
   "id": "ae876c52-29b3-497c-b82a-36d7f155f634",
   "metadata": {},
   "outputs": [],
   "source": [
    "# 5. This assignment statements, like spam = 10. What is the difference between an expression and a statement?\n",
    "\"\"\"\n",
    "Statements are always carry values only. It cannot be evaluated.\n",
    "Expressions are uesd for an evaluate purpose by using operators.\n",
    "\"\"\""
   ]
  },
  {
   "cell_type": "code",
   "execution_count": 6,
   "id": "33141ebf-830b-43e1-a8db-11246ccfa1cd",
   "metadata": {},
   "outputs": [
    {
     "data": {
      "text/plain": [
       "23"
      ]
     },
     "execution_count": 6,
     "metadata": {},
     "output_type": "execute_result"
    }
   ],
   "source": [
    "# 6. After running the following code, what does the variable bacon contain?\n",
    "bacon = 22\n",
    "bacon + 1\n",
    "\n",
    "\"\"\"\n",
    "'bacon' is a variable which contains a value '22' and bacon + 1 is an expression.\n",
    "The result for an expression is 23 but the value of the variable bacon contains the same 22.\n",
    "\"\"\""
   ]
  },
  {
   "cell_type": "code",
   "execution_count": 16,
   "id": "66da7b08-bc51-431c-a2d2-9acb46958391",
   "metadata": {},
   "outputs": [
    {
     "name": "stdout",
     "output_type": "stream",
     "text": [
      "spamspamspam\n",
      "spamspamspam\n"
     ]
    }
   ],
   "source": [
    "# 7. What should the values of the following two terms be?\n",
    "a = 'spam' + 'spamspam'\n",
    "b = 'spam' * 3\n",
    "print(a)\n",
    "print (b)"
   ]
  },
  {
   "cell_type": "code",
   "execution_count": null,
   "id": "3cec96e4-a2df-436b-9e19-75c243de6862",
   "metadata": {},
   "outputs": [],
   "source": [
    "# 8. Why is eggs a valid variable name while 100 is invalid?\n",
    "\"\"\"\n",
    "Because variables are always starts with alphabets and underscore (_).\n",
    "Variables are not starts with digits(0-9) and other special characters.\n",
    "\"\"\""
   ]
  },
  {
   "cell_type": "code",
   "execution_count": null,
   "id": "30b2053e-b64f-4cdd-ad67-1ff7d3a5acc4",
   "metadata": {},
   "outputs": [],
   "source": [
    "# 9. What three functions can be used to get the integer, floating-point number, or string version of a value?\n",
    "\n",
    "\"\"\"\n",
    "int()\n",
    "float()\n",
    "str()\n",
    "\"\"\""
   ]
  },
  {
   "cell_type": "code",
   "execution_count": 1,
   "id": "5e629d0b-8ef9-431a-88ee-8f83daf54b1f",
   "metadata": {},
   "outputs": [
    {
     "ename": "TypeError",
     "evalue": "can only concatenate str (not \"int\") to str",
     "output_type": "error",
     "traceback": [
      "\u001b[0;31m---------------------------------------------------------------------------\u001b[0m",
      "\u001b[0;31mTypeError\u001b[0m                                 Traceback (most recent call last)",
      "Cell \u001b[0;32mIn [1], line 2\u001b[0m\n\u001b[1;32m      1\u001b[0m \u001b[38;5;66;03m# 10. Why does this expression cause an error? How can you fix it?\u001b[39;00m\n\u001b[0;32m----> 2\u001b[0m \u001b[38;5;124;43m'\u001b[39;49m\u001b[38;5;124;43mI have eaten \u001b[39;49m\u001b[38;5;124;43m'\u001b[39;49m\u001b[43m \u001b[49m\u001b[38;5;241;43m+\u001b[39;49m\u001b[43m \u001b[49m\u001b[38;5;241;43m99\u001b[39;49m \u001b[38;5;241m+\u001b[39m \u001b[38;5;124m'\u001b[39m\u001b[38;5;124m burritos.\u001b[39m\u001b[38;5;124m'\u001b[39m\n",
      "\u001b[0;31mTypeError\u001b[0m: can only concatenate str (not \"int\") to str"
     ]
    }
   ],
   "source": [
    "# 10. Why does this expression cause an error? How can you fix it?\n",
    "'I have eaten ' + 99 + ' burritos.'"
   ]
  },
  {
   "cell_type": "code",
   "execution_count": 31,
   "id": "d3905093-3730-47ed-bf3c-3d4e2d6920b6",
   "metadata": {},
   "outputs": [
    {
     "data": {
      "text/plain": [
       "'I have eaten 99 burritos.'"
      ]
     },
     "execution_count": 31,
     "metadata": {},
     "output_type": "execute_result"
    }
   ],
   "source": [
    "'I have eaten ' + '99' + ' burritos.'\n",
    "\n",
    "# Because 99 is an integer. Only string can concanetated with other string with the help of (+)"
   ]
  }
 ],
 "metadata": {
  "kernelspec": {
   "display_name": "Python 3 (ipykernel)",
   "language": "python",
   "name": "python3"
  },
  "language_info": {
   "codemirror_mode": {
    "name": "ipython",
    "version": 3
   },
   "file_extension": ".py",
   "mimetype": "text/x-python",
   "name": "python",
   "nbconvert_exporter": "python",
   "pygments_lexer": "ipython3",
   "version": "3.10.6"
  }
 },
 "nbformat": 4,
 "nbformat_minor": 5
}
