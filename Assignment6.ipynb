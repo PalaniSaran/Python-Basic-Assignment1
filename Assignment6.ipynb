{
 "cells": [
  {
   "cell_type": "code",
   "execution_count": 1,
   "id": "3ede4d63-aaa5-4627-a05c-7b49d0685947",
   "metadata": {},
   "outputs": [
    {
     "name": "stdout",
     "output_type": "stream",
     "text": [
      "['False', 'None', 'True', 'and', 'as', 'assert', 'async', 'await', 'break', 'class', 'continue', 'def', 'del', 'elif', 'else', 'except', 'finally', 'for', 'from', 'global', 'if', 'import', 'in', 'is', 'lambda', 'nonlocal', 'not', 'or', 'pass', 'raise', 'return', 'try', 'while', 'with', 'yield']\n"
     ]
    }
   ],
   "source": [
    "# Q.1. What are keywords in python? Using the keyword library, print all the python keywords.\n",
    "\n",
    "\"\"\"\n",
    "Answer:\n",
    "Python Keywords are predefined and reserved words. There are 35 keywords are available.\n",
    "These words are used to define the syntax and structure of coding.\n",
    "keywords are not to be used as a identifier, function and variable name.\n",
    "\"\"\"\n",
    "\n",
    "import keyword\n",
    "print(keyword.kwlist)"
   ]
  },
  {
   "cell_type": "code",
   "execution_count": null,
   "id": "2de70a7b-c8ac-4899-b6c7-162e20e7adcb",
   "metadata": {},
   "outputs": [],
   "source": [
    "# Q.2. What are the rules to create variables in python?\n",
    "\n",
    "\"\"\"\n",
    "Answer:\n",
    "Variable name only contains alphanumeric and underscore (_) special character.\n",
    "It must start with alphabet or underscore character (_).\n",
    "It cannot start with a number.\n",
    "It is a case sensitive.\n",
    "Keywords are not used as a variable. \n",
    "\"\"\""
   ]
  },
  {
   "cell_type": "code",
   "execution_count": null,
   "id": "911b6704-3607-480c-a68d-4549d0223c3e",
   "metadata": {},
   "outputs": [],
   "source": [
    "# Q.3. What are the standards and conventions followed for the nomenclature of variables in\n",
    "# python to improve code readability and maintainability?\n",
    "\n",
    "'''\n",
    "Answer:\n",
    "Variables are case sensitive.\n",
    "Variable starts with alphabet or underscore(_).\n",
    "Keywords are not used as a variable.\n",
    "\n",
    "Snake case  - my_function (Each word is seperated by underscore.)\n",
    "\n",
    "Pascal case - MyFunction (First letter of each word is capital.)\n",
    "\n",
    "Camel case  - myFunction (First letter of each word is capitalized except first word.)\n",
    "\n",
    "Above mentioned cases are used to improve the code readability and maintainability.\n",
    "'''"
   ]
  },
  {
   "cell_type": "code",
   "execution_count": 1,
   "id": "ca960776-7ca3-4a01-87b8-cf75be43bc36",
   "metadata": {},
   "outputs": [
    {
     "ename": "SyntaxError",
     "evalue": "invalid syntax (90468729.py, line 7)",
     "output_type": "error",
     "traceback": [
      "\u001b[0;36m  Cell \u001b[0;32mIn [1], line 7\u001b[0;36m\u001b[0m\n\u001b[0;31m    class = 'Good'\u001b[0m\n\u001b[0m          ^\u001b[0m\n\u001b[0;31mSyntaxError\u001b[0m\u001b[0;31m:\u001b[0m invalid syntax\n"
     ]
    }
   ],
   "source": [
    "# Q.4. What will happen if a keyword is used as a variable name?\n",
    "\n",
    "\"\"\"\n",
    "Answer:\n",
    "If we use keywords as variable name, it shows a Syntax Error.\n",
    "\"\"\"\n",
    "\n",
    "class = 'Good'\n",
    "class"
   ]
  },
  {
   "cell_type": "code",
   "execution_count": null,
   "id": "03d26c67-b79a-430b-8250-26febb9a4ae0",
   "metadata": {},
   "outputs": [],
   "source": [
    "# Q.5. For what purpose def keyword is used?\n",
    "\n",
    "\"\"\"\n",
    "Answer:\n",
    "def keyword is used to create or define a function.\n",
    "def keyword is followed by a function name which is followed by Parentheses ().\n",
    "We can call the function anywhere (or) multiple times instead of rewriting a program again and again.\n",
    "\"\"\""
   ]
  },
  {
   "cell_type": "code",
   "execution_count": null,
   "id": "1b413cd0-3b4b-4cce-bdb8-63e87c388ef4",
   "metadata": {},
   "outputs": [],
   "source": [
    "# Q.6. What is the operation of this special character ‘\\’?\n",
    "\n",
    "\"\"\"\n",
    "Answer:\n",
    "Backslash (\\) is known as escape character.\n",
    "It is used to represent a whitespace characters.\n",
    "\\t is used for a tab.\n",
    "\\n is used for a new line.\n",
    "\"\"\""
   ]
  },
  {
   "cell_type": "code",
   "execution_count": 9,
   "id": "69376c54-f4c9-4503-90ff-120d0ae4e17b",
   "metadata": {},
   "outputs": [
    {
     "name": "stdout",
     "output_type": "stream",
     "text": [
      "[1, 2, 3, 4, 5]\n",
      "{1, 2, 3, 'success'}\n",
      "(1, 2, 3, 4, 5)\n"
     ]
    }
   ],
   "source": [
    "# Q.7. Give an example of the following conditions:\n",
    "# (i) Homogeneous list\n",
    "# (ii) Heterogeneous set\n",
    "# (iii) Homogeneous tuple\n",
    "\n",
    "Homogeneous_list = [1,2,3,4,5] # It contains only the same type of data.\n",
    "Heterogeneous_set = {1,2,3, True, 'success'} # It contains different type of data.\n",
    "Homogeneous_tuple = (1,2,3,4,5) # It contains only the same type of data.\n",
    "\n",
    "print(Homogeneous_list)\n",
    "print(Heterogeneous_set)\n",
    "print(Homogeneous_tuple)"
   ]
  },
  {
   "cell_type": "code",
   "execution_count": 9,
   "id": "a6b0a052-4445-4de9-bcea-116bf9d25c29",
   "metadata": {},
   "outputs": [],
   "source": [
    "# Q.8. Explain the mutable and immutable data types with proper explanation & examples.\n",
    "\n",
    "\"\"\"\n",
    "Answer:\n",
    "Mutable means we can edit, add, or delete a values in the certain data type.\n",
    "List, Dictionary and set are mutable data type.\n",
    "In dictionary, we can only edit a value not a key.\n",
    "\n",
    "Immutable means we cannot edit, add or delete a value in the certain data type.\n",
    "Tuples are immutable data type.\n",
    "\"\"\"\n",
    "\n",
    "List = [1,2,3,4,5,6,7]"
   ]
  },
  {
   "cell_type": "code",
   "execution_count": 10,
   "id": "a8872dbf-bbd9-4270-bb6b-2464f93c3f03",
   "metadata": {},
   "outputs": [
    {
     "data": {
      "text/plain": [
       "[0, 2, 3, 4, 5, 6, 7]"
      ]
     },
     "execution_count": 10,
     "metadata": {},
     "output_type": "execute_result"
    }
   ],
   "source": [
    "List[0] = 0\n",
    "List"
   ]
  },
  {
   "cell_type": "code",
   "execution_count": 11,
   "id": "755eaceb-227d-44bf-8e94-bb53bfe8fecb",
   "metadata": {},
   "outputs": [
    {
     "data": {
      "text/plain": [
       "[0, 1, 2, 3, 4, 5, 6, 7]"
      ]
     },
     "execution_count": 11,
     "metadata": {},
     "output_type": "execute_result"
    }
   ],
   "source": [
    "List.insert(1,1)\n",
    "List"
   ]
  },
  {
   "cell_type": "code",
   "execution_count": 12,
   "id": "fcb7c80c-d560-4a03-add4-5c5400d5142f",
   "metadata": {},
   "outputs": [
    {
     "data": {
      "text/plain": [
       "[1, 2, 3, 4, 5, 6, 7]"
      ]
     },
     "execution_count": 12,
     "metadata": {},
     "output_type": "execute_result"
    }
   ],
   "source": [
    "List.remove(0)\n",
    "List"
   ]
  },
  {
   "cell_type": "code",
   "execution_count": 13,
   "id": "3735cb3f-7293-4106-acc3-1d8979392894",
   "metadata": {},
   "outputs": [
    {
     "ename": "TypeError",
     "evalue": "'tuple' object does not support item assignment",
     "output_type": "error",
     "traceback": [
      "\u001b[0;31m---------------------------------------------------------------------------\u001b[0m",
      "\u001b[0;31mTypeError\u001b[0m                                 Traceback (most recent call last)",
      "Cell \u001b[0;32mIn [13], line 2\u001b[0m\n\u001b[1;32m      1\u001b[0m tuples \u001b[38;5;241m=\u001b[39m (\u001b[38;5;241m1\u001b[39m,\u001b[38;5;241m2\u001b[39m,\u001b[38;5;241m3\u001b[39m,\u001b[38;5;241m4\u001b[39m,\u001b[38;5;241m5\u001b[39m)\n\u001b[0;32m----> 2\u001b[0m \u001b[43mtuples\u001b[49m\u001b[43m[\u001b[49m\u001b[38;5;241;43m0\u001b[39;49m\u001b[43m]\u001b[49m \u001b[38;5;241m=\u001b[39m \u001b[38;5;241m0\u001b[39m\n\u001b[1;32m      3\u001b[0m tuples\n",
      "\u001b[0;31mTypeError\u001b[0m: 'tuple' object does not support item assignment"
     ]
    }
   ],
   "source": [
    "# tuples are immutable.\n",
    "\n",
    "tuples = (1,2,3,4,5)\n",
    "tuples[0] = 0\n",
    "tuples"
   ]
  },
  {
   "cell_type": "code",
   "execution_count": 14,
   "id": "565c6b54-9db2-4554-b4f4-df19cc87eefe",
   "metadata": {},
   "outputs": [
    {
     "data": {
      "text/plain": [
       "{'name': 'saran', 'city': 'madras'}"
      ]
     },
     "execution_count": 14,
     "metadata": {},
     "output_type": "execute_result"
    }
   ],
   "source": [
    "# Edit only the values not a key.\n",
    "\n",
    "dic = {'name' : 'saran' , 'city' : 'chennai'}\n",
    "\n",
    "dic['city'] = 'madras'\n",
    "dic"
   ]
  },
  {
   "cell_type": "code",
   "execution_count": 16,
   "id": "4b32a810-0c74-45d8-855b-8f4e19a253c1",
   "metadata": {},
   "outputs": [
    {
     "name": "stdout",
     "output_type": "stream",
     "text": [
      "    *\n",
      "   ***\n",
      "  *****\n",
      " *******\n",
      "*********\n"
     ]
    }
   ],
   "source": [
    "\"\"\"\n",
    "Q.9. Write a code to create the given structure using only for loop.\n",
    "    *\n",
    "   ***\n",
    "  *****\n",
    " *******\n",
    "*********\n",
    "\"\"\"\n",
    "\n",
    "n = 5\n",
    "b = '*'\n",
    "for i in range(n):\n",
    "    for j in range(i,n-1):\n",
    "        print(' ',end='')\n",
    "    for j in range(i):\n",
    "        print(b,end='')\n",
    "    for j in range(i+1):\n",
    "        print(b,end='')\n",
    "    print()"
   ]
  },
  {
   "cell_type": "code",
   "execution_count": 1,
   "id": "4d773906-1b94-45b4-bcdd-b844a4804972",
   "metadata": {},
   "outputs": [
    {
     "name": "stdout",
     "output_type": "stream",
     "text": [
      " |||||||||\n",
      "  |||||||\n",
      "   |||||\n",
      "    |||\n",
      "     |\n"
     ]
    }
   ],
   "source": [
    "\"\"\"\n",
    "Q.10. Write a code to create the given structure using while loop.\n",
    "|||||||||\n",
    " |||||||\n",
    "  |||||\n",
    "   |||\n",
    "    |\n",
    "\"\"\"\n",
    "\n",
    "n = 5\n",
    "c = '|'\n",
    "\n",
    "for i in range(n):\n",
    "    for j in range(i+1):\n",
    "        print(' ',end='')\n",
    "    for j in range(i,n):\n",
    "        print('|',end='')\n",
    "    for j in range(i,n-1):\n",
    "        print('|',end='')\n",
    "    print()"
   ]
  }
 ],
 "metadata": {
  "kernelspec": {
   "display_name": "Python 3 (ipykernel)",
   "language": "python",
   "name": "python3"
  },
  "language_info": {
   "codemirror_mode": {
    "name": "ipython",
    "version": 3
   },
   "file_extension": ".py",
   "mimetype": "text/x-python",
   "name": "python",
   "nbconvert_exporter": "python",
   "pygments_lexer": "ipython3",
   "version": "3.10.6"
  }
 },
 "nbformat": 4,
 "nbformat_minor": 5
}
