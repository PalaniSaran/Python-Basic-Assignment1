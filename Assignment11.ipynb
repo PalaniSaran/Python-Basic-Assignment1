{
 "cells": [
  {
   "cell_type": "code",
   "execution_count": 1,
   "id": "042b02f2-bf29-4529-829f-d4a7b0ebacfb",
   "metadata": {},
   "outputs": [
    {
     "name": "stdin",
     "output_type": "stream",
     "text": [
      "Enter the number :  10\n",
      "Enter the number :  2\n"
     ]
    },
    {
     "name": "stdout",
     "output_type": "stream",
     "text": [
      "The result is 5.0.\n"
     ]
    }
   ],
   "source": [
    "# Ques 1:What is the role of the 'else' block in a try-except statement? \n",
    "#        Provide an example scenario where it would be useful.\n",
    "\n",
    "'''\n",
    "Answer:\n",
    "# The else block gets processed if the try block is found to be exception free.\n",
    "'''\n",
    "\n",
    "a = int(input('Enter the number : '))\n",
    "b = int(input('Enter the number : '))\n",
    "\n",
    "\n",
    "try:\n",
    "    c = a / b\n",
    "except:\n",
    "    print('Number cannot divided by Zero.')\n",
    "else:\n",
    "    print(f'The result is {c}.')"
   ]
  },
  {
   "cell_type": "code",
   "execution_count": 4,
   "id": "b51c6d05-a485-455b-a68e-3d1090e09bb5",
   "metadata": {},
   "outputs": [
    {
     "name": "stdout",
     "output_type": "stream",
     "text": [
      "10\n",
      "Number cannot divided by Zero.\n"
     ]
    }
   ],
   "source": [
    "# Ques 2: Can a try-except block be nested inside another try-except block? \n",
    "# Explain with an example.\n",
    "\n",
    "'''\n",
    "Answer:\n",
    "# Yes, we can have try-except block nested inside another try-except block.\n",
    "'''\n",
    "\n",
    "x = 7\n",
    "y = 0\n",
    "z = [2,4,6,8,10] \n",
    "\n",
    "try:\n",
    "    print(z[4])\n",
    "    try:\n",
    "        print(x / y)\n",
    "    except ZeroDivisionError:\n",
    "        print('Number cannot divided by Zero.')\n",
    "except IndexError:\n",
    "    print('Specified Index is out of range.')"
   ]
  },
  {
   "cell_type": "code",
   "execution_count": 1,
   "id": "b5a6eeb0-e78f-4a99-851e-ca1bb1403d6e",
   "metadata": {},
   "outputs": [],
   "source": [
    "# Ques 3: How can you create a custom exception class in Python? \n",
    "#         Provide an example that demonstrates its usage.\n",
    "\n",
    "'''\n",
    "Answer:\n",
    "# We can define custom exceptions by creating a new class derived from the built-in Exception class.\n",
    "'''\n",
    "\n",
    "class WrongAge(Exception):\n",
    "    pass"
   ]
  },
  {
   "cell_type": "code",
   "execution_count": 3,
   "id": "b117f9c0-2dc1-4a53-8501-5ea44d32036c",
   "metadata": {},
   "outputs": [
    {
     "name": "stdin",
     "output_type": "stream",
     "text": [
      "Enter a age :  18\n"
     ]
    },
    {
     "name": "stdout",
     "output_type": "stream",
     "text": [
      "You are eligible to vote.\n"
     ]
    }
   ],
   "source": [
    "try:\n",
    "    age = int(input('Enter a age : '))\n",
    "    if age < 18:\n",
    "        raise WrongAge\n",
    "    else:\n",
    "        print('You are eligible to vote.')\n",
    "except WrongAge:\n",
    "    print('You are not eligible to vote.')"
   ]
  },
  {
   "cell_type": "code",
   "execution_count": null,
   "id": "d9647a17-1eee-46c6-a4a8-0b1dfaaa5bae",
   "metadata": {},
   "outputs": [],
   "source": [
    "# Ques 4: What are some common exceptions that are built-in to Python?\n",
    "\n",
    "'''\n",
    "Answer:\n",
    "# TypeError\n",
    "# IndexError\n",
    "# KeyError\n",
    "# ImportError\n",
    "# NameError\n",
    "# SyntaxError\n",
    "# ZeroDivisionError\n",
    "# ValueError\n",
    "# RuntimeError\n",
    "# OverflowError\n",
    "'''"
   ]
  },
  {
   "cell_type": "code",
   "execution_count": null,
   "id": "faf4b129-52c1-4143-a951-d2d97e9b527e",
   "metadata": {},
   "outputs": [],
   "source": [
    "# Ques 5: What is logging in Python, and why is it important in software development?\n",
    "\n",
    "'''\n",
    "Answer:\n",
    "# logging - keeping a log of events that occur in a computer system, such as problems, \n",
    "            errors or just information on current operations.\n",
    "\n",
    "# For complex script, logging is sessential for debugging. Without logging, it is difficult to find a source of problem.\n",
    "  And also take more time consuming.\n",
    "'''"
   ]
  },
  {
   "cell_type": "code",
   "execution_count": null,
   "id": "82259644-e686-4e68-8763-3aa8870277e8",
   "metadata": {},
   "outputs": [],
   "source": [
    "# Ques 6: Explain the purpose of log levels in Python logging.\n",
    "#        provide examples of when each log level would be appropriate.\n",
    "\n",
    "'''\n",
    "Anwser:\n",
    "# Logging levels - It is used to classify the entries in your log file in terms of urgency.\n",
    "\n",
    "Debug: It is used to give Detailed information, typically of interest only when diagnosing problems.\n",
    "Info: It is used to confirm that things are working as expected.\n",
    "Warning: It is used to indicate of some problems in the near future.\n",
    "Error: This tells that due to a more serious problem, the software has not been able to perform some function.\n",
    "Critical: This tells serious error, indicating that the program itself may be unable to continue running.\n",
    "'''"
   ]
  },
  {
   "cell_type": "code",
   "execution_count": null,
   "id": "000b9197-ef17-41e6-936b-4ef8f3a9bb68",
   "metadata": {},
   "outputs": [],
   "source": [
    "# Ques 7:What are log formatters in Python logging, and \n",
    "#        how can you customise the log message format using formatters?\n",
    "\n",
    "'''\n",
    "Answer:\n",
    "# The log formatter basically enriches a log message by adding context information to it. \n",
    "  It can be useful to know when the log is sent.\n",
    "'''"
   ]
  },
  {
   "cell_type": "code",
   "execution_count": null,
   "id": "9bdc83e7-7efe-42e9-a600-e6e447b26d1d",
   "metadata": {},
   "outputs": [],
   "source": [
    "# Ques 8: How can you set up logging to capture log messages from multiple modules or classes in a Python application?\n",
    "\n",
    "'''\n",
    "Answer:\n",
    "# This allows granular control over the handler and formatter for each module. \n",
    "  Moreover, creating multiple loggers for your modules is quick too.\n",
    "'''"
   ]
  },
  {
   "cell_type": "code",
   "execution_count": null,
   "id": "b1b77da9-7e40-4455-bf27-c202621f5edc",
   "metadata": {},
   "outputs": [],
   "source": [
    "# Ques 9: What is the difference between the logging and print statements in Python? \n",
    "#         When should you use logging over print statements in a real-world application?\n",
    "\n",
    "'''\n",
    "Answer:\n",
    "# Logging - Record events and errors that occur during the execution of Python programs.\n",
    "            It provides different log levels such as Debug, Info, Warning, Error and Critical.\n",
    "            \n",
    "# Print   - It is used to display the information to the console for the debugging purposes.\n",
    "            It does not have any levels, it simply prints whatever is passed to it.\n",
    "'''"
   ]
  },
  {
   "cell_type": "code",
   "execution_count": null,
   "id": "f0e258a3-cbdc-44b1-8b4d-ae4a0842e2f3",
   "metadata": {},
   "outputs": [],
   "source": [
    "'''\n",
    "Ques 10:\n",
    "Write a Python program that logs a message to a file named \"app.log\" with the following requirements:\n",
    "● The log message should be \"Hello, World!\"\n",
    "● The log level should be set to \"INFO.\"\n",
    "● The log file should append new log entries without overwriting previous ones.\n",
    "'''"
   ]
  },
  {
   "cell_type": "code",
   "execution_count": 8,
   "id": "b613f884-e315-464f-a105-3dff721f2c2d",
   "metadata": {},
   "outputs": [],
   "source": [
    "import logging\n",
    " \n",
    "logging.basicConfig(filename=r\"c:\\log\\app.log\")\n",
    " \n",
    "logger = logging.getLogger()\n",
    "logger.setLevel(logging.INFO)\n",
    " \n",
    "logger.info(\"Hello World!\")"
   ]
  },
  {
   "cell_type": "code",
   "execution_count": null,
   "id": "328c2a6f-5875-4aa3-aeb0-997a24c6fd6f",
   "metadata": {},
   "outputs": [],
   "source": [
    "'''\n",
    "Ques 11:\n",
    "Create a Python program that logs an error message to the console and a file named\n",
    "\"errors.log\" if an exception occurs during the program's execution. The error\n",
    "message should include the exception type and a timestamp.\n",
    "'''"
   ]
  },
  {
   "cell_type": "code",
   "execution_count": 1,
   "id": "27b787bb-b80c-48da-b1ef-5b864978c0e6",
   "metadata": {},
   "outputs": [],
   "source": [
    "import logging\n",
    "\n",
    "logging.basicConfig(filename = r'C:\\log\\error.txt, level=logging.ERROR, fotmat = %(asctime)s')\n",
    "\n",
    "def LetUsDivide(n, d):\n",
    "    try:\n",
    "        result = n / d\n",
    "    except ZeroDivisionError:\n",
    "        logging.error('Number cannot divided by Zero.')\n",
    "    else:\n",
    "        return result\n",
    "\n",
    "LetUsDivide(4, 0)"
   ]
  },
  {
   "cell_type": "code",
   "execution_count": null,
   "id": "4fbc9bb5-7c65-4112-b726-72f75c120fe5",
   "metadata": {},
   "outputs": [],
   "source": []
  }
 ],
 "metadata": {
  "kernelspec": {
   "display_name": "Python 3 (ipykernel)",
   "language": "python",
   "name": "python3"
  },
  "language_info": {
   "codemirror_mode": {
    "name": "ipython",
    "version": 3
   },
   "file_extension": ".py",
   "mimetype": "text/x-python",
   "name": "python",
   "nbconvert_exporter": "python",
   "pygments_lexer": "ipython3",
   "version": "3.10.6"
  }
 },
 "nbformat": 4,
 "nbformat_minor": 5
}
