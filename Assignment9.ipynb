{
 "cells": [
  {
   "cell_type": "code",
   "execution_count": null,
   "id": "a7730a9a-bec9-4897-8e46-8d09e8d5aaaf",
   "metadata": {},
   "outputs": [],
   "source": [
    "# Ques 1: What is a lambda function in Python, and how does it differ from a regular function?\n",
    "\n",
    "'''\n",
    "Answer:\n",
    "# Lambda functions are small, anonymous functions defined with the lambda keyword.\n",
    "  Only one expression will be done. The expression will be evaluated and returned when the function is called.\n",
    "  Lambda functions are used where we want to create a function that will contain only simple expression.\n",
    "  \n",
    "# We don't use the parentheses for the parameters in lambda which we use it in the regular functions.\n",
    "\n",
    "'''"
   ]
  },
  {
   "cell_type": "code",
   "execution_count": 1,
   "id": "6262ba80-54a5-4135-a1f7-274ece113db4",
   "metadata": {},
   "outputs": [
    {
     "name": "stdout",
     "output_type": "stream",
     "text": [
      "10\n"
     ]
    }
   ],
   "source": [
    "# Ques 2: Can a lambda function in Python have multiple arguments? \n",
    "#       If yes, how can you define and use them?\n",
    "\n",
    "'''\n",
    "Answer:\n",
    "# Yes,we can have multiple arguments in lambda function in python. But the body of the function have only one expression.\n",
    "'''\n",
    "\n",
    "mul = lambda x, y: x * y    \n",
    "print(mul(5,2))          # We are passing two arguments."
   ]
  },
  {
   "cell_type": "code",
   "execution_count": 15,
   "id": "3cec2627-1b44-48bd-877f-2bca191ef719",
   "metadata": {},
   "outputs": [
    {
     "name": "stdout",
     "output_type": "stream",
     "text": [
      "77\n"
     ]
    }
   ],
   "source": [
    "# Ques 3: How are lambda functions typically used in Python? Provide an example use case.\n",
    "\n",
    "'''\n",
    "Answer:\n",
    "# Lambda functions are used where we want to create a function that will contain only simple expression.\n",
    "'''\n",
    "\n",
    "max_value = lambda x, y: x if x > y else y\n",
    "print(max_value(77,60))"
   ]
  },
  {
   "cell_type": "code",
   "execution_count": null,
   "id": "dc730e94-95a4-484d-bf69-625f93e42e82",
   "metadata": {},
   "outputs": [],
   "source": [
    "# Ques 4: What are the advantages and limitations of lambda functions compared to regular functions in Python?\n",
    "\n",
    "'''\n",
    "Answer:\n",
    "# Advantages: We can use the code immediately.\n",
    "              Execution is faster than the regular function.\n",
    "\n",
    "# Limitations: Lambda functions can have only one expression.\n",
    "               It is difficult to read the code.\n",
    "               It cannot have a docstring.\n",
    "'''"
   ]
  },
  {
   "cell_type": "code",
   "execution_count": 14,
   "id": "132e1799-5a0e-4a4f-8dcc-ef5764bff740",
   "metadata": {},
   "outputs": [
    {
     "name": "stdout",
     "output_type": "stream",
     "text": [
      "20\n"
     ]
    }
   ],
   "source": [
    "# Ques 5: Are lambda functions in Python able to access variables defined outside of their own scope?\n",
    "#         Explain with an example.\n",
    "\n",
    "'''\n",
    "Answer:\n",
    "# No, lambda functions are not able to access variables defined outside of their own scope.\n",
    "# The function scope to be limited to the current scope only.\n",
    "'''\n",
    "\n",
    "add = lambda x,y: x + y\n",
    "print(add(15,5))"
   ]
  },
  {
   "cell_type": "code",
   "execution_count": 2,
   "id": "3b85f68c-68a4-4f4f-9e44-80247f11b503",
   "metadata": {},
   "outputs": [
    {
     "name": "stdout",
     "output_type": "stream",
     "text": [
      "25\n"
     ]
    }
   ],
   "source": [
    "# Ques 6: Write a lambda function to calculate the square of a given number.\n",
    "\n",
    "square = lambda x: x ** 2\n",
    "print(square(5))"
   ]
  },
  {
   "cell_type": "code",
   "execution_count": 3,
   "id": "98ba5b63-b5be-4f94-b681-b1fedf197452",
   "metadata": {},
   "outputs": [
    {
     "name": "stdout",
     "output_type": "stream",
     "text": [
      "65\n"
     ]
    }
   ],
   "source": [
    "# Ques 7: Create a lambda function to find the maximum value in a list of integers.\n",
    "\n",
    "from functools import reduce\n",
    "\n",
    "List = [5,25,65,15,10]\n",
    "Max_number = reduce(lambda x, y: x if x >= y else y, List)\n",
    "print(Max_number)"
   ]
  },
  {
   "cell_type": "code",
   "execution_count": 4,
   "id": "c2a5923d-fa66-4e97-a51a-fe3e36fdb9f6",
   "metadata": {},
   "outputs": [
    {
     "name": "stdout",
     "output_type": "stream",
     "text": [
      "[2, 4, 6, 8]\n"
     ]
    }
   ],
   "source": [
    "# Ques 8: Implement a lambda function to filter out all the even numbers from a list of integers.\n",
    "\n",
    "List1 = [1,2,3,4,5,6,7,8,9]\n",
    "\n",
    "even_numbers = list(filter(lambda x: x % 2 == 0, List1))\n",
    "print(even_numbers)"
   ]
  },
  {
   "cell_type": "code",
   "execution_count": 5,
   "id": "b4184853-308b-4464-ada1-2c7066d225ec",
   "metadata": {},
   "outputs": [
    {
     "name": "stdout",
     "output_type": "stream",
     "text": [
      "['bala', 'raja', 'saran', 'shree', 'ganesh', 'palani', 'vinoth']\n"
     ]
    }
   ],
   "source": [
    "# Ques 9: Write a lambda function to sort a list of strings in ascending order based on the length of each string.\n",
    "\n",
    "list1 = ['saran', 'shree', 'ganesh', 'palani', 'bala', 'raja', 'vinoth']\n",
    "\n",
    "sorted_list1 = sorted(list1, key = lambda x: len(x))\n",
    "\n",
    "print(sorted_list1)"
   ]
  },
  {
   "cell_type": "code",
   "execution_count": 7,
   "id": "b5c2bc30-19e0-49a4-8f76-60db0951092a",
   "metadata": {},
   "outputs": [
    {
     "name": "stdin",
     "output_type": "stream",
     "text": [
      "Enter the list1 :  123456\n",
      "Enter the list2 :  134589\n"
     ]
    },
    {
     "name": "stdout",
     "output_type": "stream",
     "text": [
      "The common elements are ['1', '3', '4', '5']\n"
     ]
    }
   ],
   "source": [
    "# Ques 10: Create a lambda function that takes two lists as input and returns a new list containing the\n",
    "#          common elements between the two lists.\n",
    "\n",
    "l1 = list(input('Enter the list1 : '))\n",
    "l2 = list(input('Enter the list2 : '))\n",
    "\n",
    "intersection = list(filter(lambda x: x in l1, l2))\n",
    "\n",
    "print('The common elements are', intersection)"
   ]
  },
  {
   "cell_type": "code",
   "execution_count": 8,
   "id": "3b4b4045-3142-4ff9-af57-0db3b3bbbcee",
   "metadata": {},
   "outputs": [
    {
     "name": "stdout",
     "output_type": "stream",
     "text": [
      "The factorial of a number 5 is 120\n"
     ]
    }
   ],
   "source": [
    "# Ques 11: Write a recursive function to calculate the factorial of a given positive integer.\n",
    "\n",
    "def factorial(n):\n",
    "    if n == 0:\n",
    "        return 1\n",
    "    elif n == 1:\n",
    "        return n\n",
    "    else:\n",
    "        return n * factorial(n - 1)\n",
    "    \n",
    "n = 5\n",
    "\n",
    "print(f'The factorial of a number {n} is {factorial(n)}')"
   ]
  },
  {
   "cell_type": "code",
   "execution_count": 10,
   "id": "b3b2d605-e404-4276-b914-629903b233e4",
   "metadata": {},
   "outputs": [
    {
     "name": "stdout",
     "output_type": "stream",
     "text": [
      "The 6th fibonacci number is 8.\n"
     ]
    }
   ],
   "source": [
    "# Ques 12: Implement a recursive function to compute the nth Fibonacci number.\n",
    "\n",
    "def fibonacci(n):\n",
    "    if n <= 1:\n",
    "        return n\n",
    "    else:\n",
    "        return fibonacci(n - 1) + fibonacci(n - 2)\n",
    "\n",
    "n = 6\n",
    "fibonacci(6)\n",
    "\n",
    "print(f'The {n}th fibonacci number is {fibonacci(n)}.')"
   ]
  },
  {
   "cell_type": "code",
   "execution_count": 13,
   "id": "70d00028-57e3-4321-99e7-07972117588c",
   "metadata": {},
   "outputs": [
    {
     "name": "stdout",
     "output_type": "stream",
     "text": [
      "The sum of all the elements in a list is  15\n"
     ]
    }
   ],
   "source": [
    "# Ques 13: Create a recursive function to find the sum of all the elements in a given list.\n",
    "\n",
    "def add_list(list3):\n",
    "    if len(list3) == 1:\n",
    "        return list3[0]\n",
    "    else:\n",
    "        return list3[0] + add_list(list3[1:])\n",
    "\n",
    "add_list([1,2,3,4,5])\n",
    "print('The sum of all the elements in a list is ', add_list([1,2,3,4,5]))"
   ]
  },
  {
   "cell_type": "code",
   "execution_count": 7,
   "id": "88174999-f5a5-4181-bf08-8c624eb5c337",
   "metadata": {},
   "outputs": [
    {
     "name": "stdin",
     "output_type": "stream",
     "text": [
      "Enter string: madam\n"
     ]
    },
    {
     "name": "stdout",
     "output_type": "stream",
     "text": [
      "String madam is a palindrome.\n"
     ]
    }
   ],
   "source": [
    "# Ques 14: Write a recursive function to determine whether a given string is a palindrome.\n",
    "\n",
    "def is_palindrome(s):\n",
    "    if len(s) < 1: \n",
    "        return True\n",
    "    else:\n",
    "        if s[0] == s[-1]: \n",
    "            return is_palindrome(s[1:-1]) \n",
    "        else: \n",
    "            return False\n",
    "        \n",
    "a=str(input(\"Enter string:\"))\n",
    "\n",
    "if(is_palindrome(a)==True): \n",
    "    print(f'String {a} is a palindrome.')\n",
    "else:\n",
    "    print(f'String {a} is not a palindrome.')"
   ]
  },
  {
   "cell_type": "code",
   "execution_count": 13,
   "id": "2e619db1-1f35-4a7e-a5cb-83076a2e0b75",
   "metadata": {},
   "outputs": [
    {
     "name": "stdout",
     "output_type": "stream",
     "text": [
      "The GCD is 12\n"
     ]
    }
   ],
   "source": [
    "#Ques 15: Implement a recursive function to find the greatest common divisor (GCD) of two positive integers.\n",
    "\n",
    "def GCD(a,b):\n",
    "    if b == 0:\n",
    "        return a\n",
    "    else:\n",
    "        return GCD(b, a % b)\n",
    "\n",
    "result = GCD(60,12)\n",
    "\n",
    "print('The GCD is', result)"
   ]
  }
 ],
 "metadata": {
  "kernelspec": {
   "display_name": "Python 3 (ipykernel)",
   "language": "python",
   "name": "python3"
  },
  "language_info": {
   "codemirror_mode": {
    "name": "ipython",
    "version": 3
   },
   "file_extension": ".py",
   "mimetype": "text/x-python",
   "name": "python",
   "nbconvert_exporter": "python",
   "pygments_lexer": "ipython3",
   "version": "3.10.6"
  }
 },
 "nbformat": 4,
 "nbformat_minor": 5
}
