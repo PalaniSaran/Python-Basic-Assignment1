{
 "cells": [
  {
   "cell_type": "code",
   "execution_count": null,
   "id": "3a933644-5ab4-4cfb-8f65-4303fa7c7ae3",
   "metadata": {},
   "outputs": [],
   "source": [
    "# Ques 1: Explain what inheritance is in object-oriented programming and why it is used.\n",
    "\n",
    "'''\n",
    "Answer:\n",
    "# It is used to create a hierarchy of classes that share a set of properties \n",
    "  and methods by deriving a class from another class.\n",
    "\n",
    "# Inheritance should only be used when both classes are in the same logical domain. \n",
    "\n"
   ]
  },
  {
   "cell_type": "code",
   "execution_count": null,
   "id": "9e6d85bd-fd8e-44d1-a200-798038496ee4",
   "metadata": {},
   "outputs": [],
   "source": [
    "# Ques 2: Discuss the concept of single inheritance and multiple inheritance, \n",
    "#         highlighting their differences and advantages.\n",
    "\n",
    "'''\n",
    "Answer:\n",
    "# Single inheritance   - Single inheritance enables a derived class to inherit properties from a single parent class, \n",
    "                         thus enabling code reusability and the addition of new features to existing code.\n",
    "                       \n",
    "# Multiple inheritance - When a class can be derived from more than one base class is known as multiple inheritances. \n",
    "                         All the features of the base classes are inherited into the derived class.\n",
    "'''"
   ]
  },
  {
   "cell_type": "code",
   "execution_count": null,
   "id": "b804b525-5f0d-4cce-adc8-922be121c902",
   "metadata": {},
   "outputs": [],
   "source": [
    "# Ques 3: Explain the terms \"base class\" and \"derived class\" in the context of inheritance.\n",
    "\n",
    "'''\n",
    "Answer:\n",
    "# Parent class is the class being inherited from. It is also called base class. \n",
    "  \n",
    "# Child class is the class that inherits from another class. It is also called derived class.\n",
    "'''"
   ]
  },
  {
   "cell_type": "code",
   "execution_count": null,
   "id": "ac8c6a30-6cee-4398-b90a-85e5efe189c0",
   "metadata": {},
   "outputs": [],
   "source": [
    "# Ques 4: What is the significance of the \"protected\" access modifier in inheritance? \n",
    "#         How does it differ from \"private\" and \"public\" modifiers?\n",
    "\n",
    "'''\n",
    "Answer:\n",
    "# Protected modifier - The members of a class that are declared protected are only accessible to a class derived from it.\n",
    "\n",
    "# Private modifier   - The members of a class that are declared private are accessible within the class only. \n",
    "                       Private access modifier is the most secure access modifier.\n",
    "                       Use double underscore '__' symbol before the data member of that class.\n",
    "\n",
    "# Public modifier    - The members of a class that are declared public are easily accessible from any part of the program. \n",
    "'''"
   ]
  },
  {
   "cell_type": "code",
   "execution_count": 7,
   "id": "f87ac8f0-5d6b-484f-a350-1faa65ba329c",
   "metadata": {},
   "outputs": [],
   "source": [
    "# Ques 5: What is the purpose of the \"super\" keyword in inheritance? Provide an example.\n",
    "\n",
    "'''\n",
    "Answer:\n",
    "# The super() function is used to refer to the parent class or superclass.\n",
    "  It allows you to call methods defined in the superclass from the subclass.\n",
    "'''\n",
    "\n",
    "class Person:\n",
    "    def __init__(self,name):\n",
    "        self.name = name\n",
    "        \n",
    "    def display_info(self):\n",
    "        print(f'The name of the student is {self.name}.')\n",
    "\n",
    "class Student(Person):\n",
    "    def __init__(self,name,roll_no):\n",
    "        super().__init__(name)\n",
    "        self.roll_no = roll_no\n",
    "        \n",
    "    def display_info(self):\n",
    "        super().display_info()\n",
    "        print(f'Roll number is {self.roll_no}')"
   ]
  },
  {
   "cell_type": "code",
   "execution_count": 8,
   "id": "a58727ee-e898-474c-a379-90613963216e",
   "metadata": {},
   "outputs": [
    {
     "name": "stdout",
     "output_type": "stream",
     "text": [
      "The name of the student is Saran.\n",
      "Roll number is 54321\n"
     ]
    }
   ],
   "source": [
    "student1 = Student('Saran', 54321)\n",
    "student1.display_info()"
   ]
  },
  {
   "cell_type": "code",
   "execution_count": 12,
   "id": "5c91960c-02e7-45d3-91e9-2fa328286082",
   "metadata": {},
   "outputs": [],
   "source": [
    "'''\n",
    "Ques 6:\n",
    "Create a base class called \"Vehicle\" with attributes like \"make\", \"model\", and \"year\".\n",
    "Then, create a derived class called \"Car\" that inherits from \"Vehicle\" and adds an\n",
    "attribute called \"fuel_type\". Implement appropriate methods in both classes.\n",
    "'''\n",
    "\n",
    "class Vehicle:\n",
    "    def __init__(self,make,model,year):\n",
    "        self.make = make\n",
    "        self.model = model\n",
    "        self.year = year\n",
    "        \n",
    "    def display_info(self):\n",
    "        print(f'Make : {self.make}') \n",
    "        print(f'Model : {self.model}')\n",
    "        print(f'Year : {self.year}')\n",
    "        \n",
    "class Car(Vehicle):\n",
    "    def __init__(self,make,model,year,fuel_type):\n",
    "        super().__init__(make,model,year)\n",
    "        self.fuel_type = fuel_type\n",
    "        \n",
    "    def display_info(self):\n",
    "        super().display_info()\n",
    "        print(f'Type of fuel : {self.fuel_type}')"
   ]
  },
  {
   "cell_type": "code",
   "execution_count": 13,
   "id": "2d961a57-c45d-4bba-91f4-5f4cd6ac04bc",
   "metadata": {},
   "outputs": [
    {
     "name": "stdout",
     "output_type": "stream",
     "text": [
      "Make : Toyota\n",
      "Model : Innova\n",
      "Year : 2020\n",
      "Type of fuel : Petrol\n"
     ]
    }
   ],
   "source": [
    "car1 = Car('Toyota', 'Innova', 2020, 'Petrol')\n",
    "car1.display_info()"
   ]
  },
  {
   "cell_type": "code",
   "execution_count": 7,
   "id": "93860cce-2267-44e1-b040-3b2085a7b2d7",
   "metadata": {},
   "outputs": [],
   "source": [
    "'''\n",
    "Ques 7:\n",
    "Create a base class called \"Employee\" with attributes like \"name\" and \"salary.\"\n",
    "Derive two classes, \"Manager\" and \"Developer,\" from \"Employee.\" Add an additional\n",
    "attribute called \"department\" for the \"Manager\" class and \"programming_language\"\n",
    "for the \"Developer\" class.\n",
    "'''\n",
    "\n",
    "class Employee:\n",
    "    def __init__(self,name,salary):\n",
    "        self.name = name\n",
    "        self.salary = salary\n",
    "        \n",
    "    def display_info(self):\n",
    "        pass\n",
    "    \n",
    "    \n",
    "class Manager(Employee):\n",
    "    def __init__(self,name,salary,department):\n",
    "        super().__init__(name,salary)\n",
    "        self.department = department\n",
    "        \n",
    "    def display_info(self):\n",
    "        super().display_info()\n",
    "        print(f'Manager {self.name} who is working in the {self.department} department salary is Rs.{self.salary}.')\n",
    "        \n",
    "        \n",
    "class Developer(Employee):\n",
    "    def __init__(self,name,salary,programming_language):\n",
    "        super().__init__(name,salary)\n",
    "        self.programming_language = programming_language\n",
    "        \n",
    "    def display_info(self):\n",
    "        super().display_info()\n",
    "        print(f'Developer {self.name} who is working in the {self.programming_language} language salary is Rs.{self.salary}.')"
   ]
  },
  {
   "cell_type": "code",
   "execution_count": 8,
   "id": "821cbff5-7b35-49da-b649-b9fa7600d9ee",
   "metadata": {},
   "outputs": [
    {
     "name": "stdout",
     "output_type": "stream",
     "text": [
      "Manager Saran who is working in the IT department salary is Rs.45000.\n"
     ]
    }
   ],
   "source": [
    "manager = Manager('Saran', 45000, 'IT')\n",
    "manager.display_info()"
   ]
  },
  {
   "cell_type": "code",
   "execution_count": 9,
   "id": "7dee1d11-83bc-4430-9743-cbb43a713d95",
   "metadata": {},
   "outputs": [
    {
     "name": "stdout",
     "output_type": "stream",
     "text": [
      "Developer Palani who is working in the Python language salary is Rs.20000.\n"
     ]
    }
   ],
   "source": [
    "developer = Developer('Palani', 20000, 'Python')\n",
    "developer.display_info()"
   ]
  },
  {
   "cell_type": "code",
   "execution_count": 13,
   "id": "742dae41-29d3-4141-945a-e925d19abaee",
   "metadata": {},
   "outputs": [],
   "source": [
    "'''\n",
    "Ques 8:\n",
    "Design a base class called \"Shape\" with attributes like \"colour\" and \"border_width.\"\n",
    "Create derived classes, \"Rectangle\" and \"Circle,\" that inherit from \"Shape\" and add\n",
    "specific attributes like \"length\" and \"width\" for the \"Rectangle\" class and \"radius\" for\n",
    "the \"Circle\" class.\n",
    "'''\n",
    "\n",
    "\n",
    "class Shape:\n",
    "    def __init__(self,colour,border_width):\n",
    "        self.colour = colour\n",
    "        self.border_width = border_width\n",
    "        \n",
    "    def display_info(self):\n",
    "        pass\n",
    "    \n",
    "class Rectangle(Shape):\n",
    "    def __init__(self,colour,border_width,length,width):\n",
    "        super().__init__(colour,border_width)\n",
    "        self.length = length\n",
    "        self.width = width\n",
    "        \n",
    "    def display_info(self):\n",
    "        print(f'Measurements of the {self.colour} colour Rectangle are:')\n",
    "        print(f'Border with : {self.border_width}cm')\n",
    "        print(f'Length : {self.length}cm')\n",
    "        print(f'Width : {self.width}cm')\n",
    "        \n",
    "class Circle(Shape):\n",
    "    def __init__(self,colour,border_width,radius):\n",
    "        super().__init__(colour,border_width)\n",
    "        self.radius = radius\n",
    "        \n",
    "    def display_info(self):\n",
    "        print(f'Measurements of the {self.colour} colour Circle are:')\n",
    "        print(f'Border with : {self.border_width}cm')\n",
    "        print(f'Radius : {self.radius}cm')"
   ]
  },
  {
   "cell_type": "code",
   "execution_count": 14,
   "id": "d6d9f904-9efa-48ee-8220-4a9266b0ddd0",
   "metadata": {},
   "outputs": [
    {
     "name": "stdout",
     "output_type": "stream",
     "text": [
      "Measurements of the blue colour Rectangle are:\n",
      "Border with : 10cm\n",
      "Length : 50cm\n",
      "Width : 25cm\n"
     ]
    }
   ],
   "source": [
    "rectangle = Rectangle('blue',10,50,25)\n",
    "rectangle.display_info()"
   ]
  },
  {
   "cell_type": "code",
   "execution_count": 15,
   "id": "01df3772-aa69-443e-9151-e1d8476e0eba",
   "metadata": {},
   "outputs": [
    {
     "name": "stdout",
     "output_type": "stream",
     "text": [
      "Measurements of the black colour Circle are:\n",
      "Border with : 5cm\n",
      "Radius : 10cm\n"
     ]
    }
   ],
   "source": [
    "circle = Circle('black', 5, 10)\n",
    "circle.display_info()"
   ]
  },
  {
   "cell_type": "code",
   "execution_count": 20,
   "id": "b8dc28bb-8211-411c-af1f-a9ccdc1917ce",
   "metadata": {},
   "outputs": [],
   "source": [
    "'''\n",
    "Ques 9:\n",
    "Create a base class called \"Device\" with attributes like \"brand\" and \"model.\" Derive\n",
    "two classes, \"Phone\" and \"Tablet,\" from \"Device.\" Add specific attributes like\n",
    "\"screen_size\" for the \"Phone\" class and \"battery_capacity\" for the \"Tablet\" class.\n",
    "'''\n",
    "\n",
    "class Device:\n",
    "    def __init__(self,brand,model):\n",
    "        self.brand = brand\n",
    "        self.model = model\n",
    "        \n",
    "    def display_info(self):\n",
    "        pass\n",
    "    \n",
    "class Phone(Device):\n",
    "    def __init__(self,brand,model,screen_size):\n",
    "        super().__init__(brand,model)\n",
    "        self.screen_size = screen_size\n",
    "        \n",
    "    def display_info(self):\n",
    "        super().display_info()\n",
    "        print('Specification of the Phone:')\n",
    "        print(f'Brand : {self.brand}')\n",
    "        print(f'Model : {self.model}')\n",
    "        print(f'Screen Size : {self.screen_size}inch')\n",
    "    \n",
    "        \n",
    "class Tablet(Device):\n",
    "    def __init__(self,brand,model,battery_capacity):\n",
    "        super().__init__(brand,model)\n",
    "        self.battery_capacity = battery_capacity\n",
    "        \n",
    "    def display_info(self):\n",
    "        super().display_info()\n",
    "        print('Specification of the Tablet:')\n",
    "        print(f'Brand : {self.brand}')\n",
    "        print(f'Model : {self.model}')\n",
    "        print(f'Battery Capacity : {self.battery_capacity}mAh')"
   ]
  },
  {
   "cell_type": "code",
   "execution_count": 21,
   "id": "d962b332-0968-47ad-b355-30acb761dc97",
   "metadata": {},
   "outputs": [
    {
     "name": "stdout",
     "output_type": "stream",
     "text": [
      "Specification of the Phone:\n",
      "Brand : Nokia\n",
      "Model : lumia 8.1\n",
      "Screen Size : 6.5inch\n"
     ]
    }
   ],
   "source": [
    "phone = Phone('Nokia', 'lumia 8.1', 6.5)\n",
    "phone.display_info()"
   ]
  },
  {
   "cell_type": "code",
   "execution_count": 22,
   "id": "a14b5682-fbad-4e27-a58c-2d6c3a153050",
   "metadata": {},
   "outputs": [
    {
     "name": "stdout",
     "output_type": "stream",
     "text": [
      "Specification of the Tablet:\n",
      "Brand : Sony\n",
      "Model : Tab 8\n",
      "Battery Capacity : 4500mAh\n"
     ]
    }
   ],
   "source": [
    "tablet = Tablet('Sony', 'Tab 8', 4500)\n",
    "tablet.display_info()"
   ]
  },
  {
   "cell_type": "code",
   "execution_count": 7,
   "id": "3b773ff3-dc46-49b0-9108-7eae95606ccc",
   "metadata": {},
   "outputs": [],
   "source": [
    "'''\n",
    "Ques 10:\n",
    "Create a base class called \"BankAccount\" with attributes like \"account_number\" and\n",
    "\"balance.\" Derive two classes, \"SavingsAccount\" and \"CheckingAccount,\" from\n",
    "\"BankAccount.\" Add specific methods like \"calculate_interest\" for the\n",
    "\"SavingsAccount\" class and \"deduct_fees\" for the \"CheckingAccount\" class.\n",
    "'''\n",
    "\n",
    "class BankAccount:\n",
    "    def __init__(self,account_number,balance):\n",
    "        self.account_number = account_number\n",
    "        self.balance = balance\n",
    "        \n",
    "    def Calculate_interest(self):\n",
    "        pass\n",
    "    \n",
    "    def checking_Account(self):\n",
    "        pass\n",
    "    \n",
    "class SavingsAccount(BankAccount):\n",
    "    def __init__(self,account_number,balance,calculate_interest):\n",
    "        super().__init__(account_number,balance)\n",
    "        self.calculate_interest = calculate_interest\n",
    "        \n",
    "    def Calculate_interest(self):\n",
    "        super().Calculate_interest()\n",
    "        interest = self.balance * (self.calculate_interest / 100)\n",
    "        print(f'The interest of an account number {self.account_number} for the balance of Rs.{self.balance} is Rs.{interest}')\n",
    "        \n",
    "class CheckingAccount(BankAccount):\n",
    "    def __init__(self,account_number,balance,deduct_fees):\n",
    "        super().__init__(account_number,balance)\n",
    "        self.deduct_fees = deduct_fees\n",
    "        \n",
    "    def checking_Account(self):\n",
    "        super().checking_Account()\n",
    "        Current_Balance = self.balance - self.deduct_fees\n",
    "        print(f'The current balance of the account number {self.account_number} after deduction of Rs.{self.deduct_fees} is Rs.{Current_Balance}')"
   ]
  },
  {
   "cell_type": "code",
   "execution_count": 8,
   "id": "1dce02ce-ec18-41b4-944e-adf18ffdca17",
   "metadata": {},
   "outputs": [
    {
     "name": "stdout",
     "output_type": "stream",
     "text": [
      "The interest of an account number 9876543210 for the balance of Rs.50000 is Rs.5000.0\n"
     ]
    }
   ],
   "source": [
    "saving_account = SavingsAccount(9876543210, 50000, 10)\n",
    "saving_account.Calculate_interest()"
   ]
  },
  {
   "cell_type": "code",
   "execution_count": 9,
   "id": "69666d94-589d-4256-9528-44b2e78aaee1",
   "metadata": {},
   "outputs": [
    {
     "name": "stdout",
     "output_type": "stream",
     "text": [
      "The current balance of the account number 9876543210 after deduction of Rs.10000 is Rs.40000\n"
     ]
    }
   ],
   "source": [
    "checking_account = CheckingAccount(9876543210, 50000, 10000)\n",
    "checking_account.checking_Account()"
   ]
  }
 ],
 "metadata": {
  "kernelspec": {
   "display_name": "Python 3 (ipykernel)",
   "language": "python",
   "name": "python3"
  },
  "language_info": {
   "codemirror_mode": {
    "name": "ipython",
    "version": 3
   },
   "file_extension": ".py",
   "mimetype": "text/x-python",
   "name": "python",
   "nbconvert_exporter": "python",
   "pygments_lexer": "ipython3",
   "version": "3.10.6"
  }
 },
 "nbformat": 4,
 "nbformat_minor": 5
}
