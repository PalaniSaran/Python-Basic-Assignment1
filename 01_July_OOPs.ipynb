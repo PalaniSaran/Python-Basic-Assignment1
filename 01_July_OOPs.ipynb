{
 "cells": [
  {
   "cell_type": "code",
   "execution_count": null,
   "id": "c69271b8-a212-47bf-b52b-b40e5de520b9",
   "metadata": {},
   "outputs": [],
   "source": [
    "# Ques 1: What is the primary goal of Object-Oriented Programming (OOP)?\n",
    "\n",
    "'''\n",
    "Answer:\n",
    "# To hold a entire data into a single object such that it would be easy to pass this to other methods and object.\n",
    "# It is used to structure a program into a simple and reusable piece of code.\n",
    "# The software may run on different generations and grows over a long lifetime.\n",
    "# Complex programs should operate correctly. \n",
    "'''"
   ]
  },
  {
   "cell_type": "code",
   "execution_count": null,
   "id": "f83d1a1b-6832-4786-81bb-1fcb5c38688e",
   "metadata": {},
   "outputs": [],
   "source": [
    "# Ques 2: What is an object in Python?\n",
    "\n",
    "'''\n",
    "Answer:\n",
    "# Object is an instance of a class.\n",
    "# The object is an entity that has a state and behavior.\n",
    "# Real-world object like car, laptop, etc..,\n",
    "'''"
   ]
  },
  {
   "cell_type": "code",
   "execution_count": null,
   "id": "c670382e-b39a-4b4b-b10b-8b3e1a54e5a2",
   "metadata": {},
   "outputs": [],
   "source": [
    "# Ques 3: What is a class in Python?\n",
    "\n",
    "'''\n",
    "Answer:\n",
    "# A class is a blueprint of an object. \n",
    "# Use the keyword class to define a class.\n",
    "# In the class definition, the first string is docstring which, is a brief description of the class.\n",
    "'''"
   ]
  },
  {
   "cell_type": "code",
   "execution_count": null,
   "id": "22444a92-de01-4889-990b-cb5d88fcca96",
   "metadata": {},
   "outputs": [],
   "source": [
    "# Ques 4: What are attributes and methods in a class?\n",
    "\n",
    "'''\n",
    "Answer:\n",
    "# Attributes - Any variable that is bound in a class is known as attributes.\n",
    "\n",
    "# Methods - Any function defined within a class is known as methods.\n",
    "'''"
   ]
  },
  {
   "cell_type": "code",
   "execution_count": null,
   "id": "8e6c49f9-0060-42c3-b394-fcfd103d0793",
   "metadata": {},
   "outputs": [],
   "source": [
    "# Ques 5: What is the difference between class variables and instance variables in Python?\n",
    "\n",
    "'''\n",
    "Answer:\n",
    "# Class variables - A variable that is shared by all instances of a class.\n",
    "                    Class variables are defined within a class but outside any of the class's methods.\n",
    "                    Class variables are useful for storing data that is shared among all instances of a class\n",
    "                    \n",
    "# Instance variables - If the value of a variable varies from object to object, \n",
    "                       then such variables are called instance variables.\n",
    "                       Instance variables are used to store data that is unique to each instance of a class.\n",
    "'''"
   ]
  },
  {
   "cell_type": "code",
   "execution_count": null,
   "id": "9bb15b77-d60f-45a2-80f9-cde88a264fd7",
   "metadata": {},
   "outputs": [],
   "source": [
    "# Ques 6: What is the purpose of the self parameter in Python class methods?\n",
    "\n",
    "'''\n",
    "Answer:\n",
    "# The self parameter is a reference to the current instance of the class.\n",
    "# It is used to access variables that belongs to the class.\n",
    "'''"
   ]
  },
  {
   "cell_type": "code",
   "execution_count": null,
   "id": "2fa5fed1-cae9-4b27-856a-2d59ab70d286",
   "metadata": {},
   "outputs": [],
   "source": [
    "'''\n",
    "Ques 7:\n",
    "For a library management system, you have to design the \"Book\" class with OOP\n",
    "principles in mind. The “Book” class will have following attributes:\n",
    "    a. title: Represents the title of the book.\n",
    "    b. author: Represents the author(s) of the book.\n",
    "    c. isbn: Represents the ISBN (International Standard Book Number) of the book.\n",
    "    d. publication_year: Represents the year of publication of the book.\n",
    "    e. available_copies: Represents the number of copies available for checkout.\n",
    "    \n",
    "The class will also include the following methods:\n",
    "    a. check_out(self): Decrements the available copies by one if there are copies\n",
    "       available for checkout.\n",
    "    b. return_book(self): Increments the available copies by one when a book is\n",
    "       returned.\n",
    "    c. display_book_info(self): Displays the information about the book, including its\n",
    "       attributes and the number of available copies.\n",
    "'''"
   ]
  },
  {
   "cell_type": "code",
   "execution_count": 1,
   "id": "be602e96-fa95-45d3-81fd-d5839e2ed1a1",
   "metadata": {},
   "outputs": [],
   "source": [
    "class Book:\n",
    "    def __init__(self,title,author,isbn,publication_year,available_copies):\n",
    "        self.title = title\n",
    "        self.author = author\n",
    "        self.isbn = isbn\n",
    "        self.publication_year = publication_year\n",
    "        self.available_copies = available_copies\n",
    "        \n",
    "    def check_out(self):\n",
    "        self.available_copies -= 1\n",
    "    \n",
    "    def return_book(self):\n",
    "        self.available_copies += 1\n",
    "        \n",
    "    def display_book_info(self):\n",
    "        print(f'The book titled {self.title} was written by {self.author} having ISBN {self.isbn} published in the year {self.publication_year} with {self.available_copies} copies.')"
   ]
  },
  {
   "cell_type": "code",
   "execution_count": 2,
   "id": "0503c054-5207-454c-8103-2f02b2f44b78",
   "metadata": {},
   "outputs": [],
   "source": [
    "book1 = Book('Thirukkural', 'Thiruvalluvar', 987654321, 2000, 100)"
   ]
  },
  {
   "cell_type": "code",
   "execution_count": 3,
   "id": "ac4261a3-eeb8-4218-8049-a9575bac4421",
   "metadata": {},
   "outputs": [
    {
     "name": "stdout",
     "output_type": "stream",
     "text": [
      "Thirukkural\n",
      "Thiruvalluvar\n",
      "987654321\n",
      "2000\n",
      "100\n"
     ]
    }
   ],
   "source": [
    "print(book1.title)\n",
    "print(book1.author)\n",
    "print(book1.isbn)\n",
    "print(book1.publication_year)\n",
    "print(book1.available_copies)"
   ]
  },
  {
   "cell_type": "code",
   "execution_count": 4,
   "id": "94fd08b4-37f5-4ca5-bb8d-1f97ac108476",
   "metadata": {},
   "outputs": [
    {
     "data": {
      "text/plain": [
       "99"
      ]
     },
     "execution_count": 4,
     "metadata": {},
     "output_type": "execute_result"
    }
   ],
   "source": [
    "book1.check_out()\n",
    "book1.available_copies"
   ]
  },
  {
   "cell_type": "code",
   "execution_count": 5,
   "id": "db8d3254-cad5-491e-9046-dc7a2b5a3608",
   "metadata": {},
   "outputs": [
    {
     "data": {
      "text/plain": [
       "100"
      ]
     },
     "execution_count": 5,
     "metadata": {},
     "output_type": "execute_result"
    }
   ],
   "source": [
    "book1.return_book()\n",
    "book1.available_copies"
   ]
  },
  {
   "cell_type": "code",
   "execution_count": 6,
   "id": "ed67cf7b-22db-47df-bfeb-f62909902c25",
   "metadata": {},
   "outputs": [
    {
     "name": "stdout",
     "output_type": "stream",
     "text": [
      "The book titled Thirukkural was written by Thiruvalluvar having ISBN 987654321 published in the year 2000 with 100 copies.\n"
     ]
    }
   ],
   "source": [
    "book1.display_book_info()"
   ]
  },
  {
   "cell_type": "code",
   "execution_count": null,
   "id": "8d4470a3-ef36-4779-8fa9-d18aadfddd2b",
   "metadata": {},
   "outputs": [],
   "source": [
    "'''\n",
    "Ques 8:\n",
    "For a ticket booking system, you have to design the \"Ticket\" class with OOP\n",
    "principles in mind. The “Ticket” class should have the following attributes:\n",
    "    a. ticket_id: Represents the unique identifier for the ticket.\n",
    "    b. event_name: Represents the name of the event.\n",
    "    c. event_date: Represents the date of the event.\n",
    "    d. venue: Represents the venue of the event.\n",
    "    e. seat_number: Represents the seat number associated with the ticket.\n",
    "    f. price: Represents the price of the ticket.\n",
    "    g. is_reserved: Represents the reservation status of the ticket.\n",
    "    \n",
    "The class also includes the following methods:\n",
    "    a. reserve_ticket(self): Marks the ticket as reserved if it is not already reserved.\n",
    "    b. cancel_reservation(self): Cancels the reservation of the ticket if it is already\n",
    "       reserved.\n",
    "    c. display_ticket_info(self): Displays the information about the ticket, including its\n",
    "       attributes and reservation status.\n",
    "'''"
   ]
  },
  {
   "cell_type": "code",
   "execution_count": 8,
   "id": "0570b0e4-411c-4467-a236-ad3ba7f707db",
   "metadata": {},
   "outputs": [],
   "source": [
    "class Ticket:\n",
    "    def __init__(self,ticket_id,event_name,event_date,venue,seat_number,price,is_reserved):\n",
    "        self.ticket_id = ticket_id\n",
    "        self.event_name = event_name\n",
    "        self.event_date = event_date\n",
    "        self.venue = venue\n",
    "        self.seat_number = seat_number\n",
    "        self.price = price\n",
    "        self.is_reserved = is_reserved\n",
    "        \n",
    "    def reserve_ticket(self):\n",
    "        if self.is_reserved == 'Not Reserved':\n",
    "            print(f'Mark the ticket as reserved.')\n",
    "    \n",
    "    def cancel_reservation(self):\n",
    "        if self.is_reserved == 'Reserved':\n",
    "            print(f'Cancel the reservation of the ticket as it is already reserved.')\n",
    "            \n",
    "    def display_ticket_info(self):\n",
    "        print(f'The cost of the ticket ID {self.ticket_id} with the seat number {self.seat_number} is Rs.{self.price} to {self.venue} for the {self.event_name} event on {self.event_date} was {self.is_reserved}.')"
   ]
  },
  {
   "cell_type": "code",
   "execution_count": 9,
   "id": "7ae7abbb-880a-454f-a742-e43f8c704ad0",
   "metadata": {},
   "outputs": [],
   "source": [
    "tic = Ticket(54321, 'marriage', '10/07/2023', 'Kerala', 'S2 7', 1500, 'Reserved')"
   ]
  },
  {
   "cell_type": "code",
   "execution_count": 10,
   "id": "d6a1e9ef-cce3-430d-8b24-fd090f054b04",
   "metadata": {},
   "outputs": [],
   "source": [
    "tic.reserve_ticket()"
   ]
  },
  {
   "cell_type": "code",
   "execution_count": 11,
   "id": "834d92ed-da80-4438-8744-f9e1c0a396a1",
   "metadata": {},
   "outputs": [
    {
     "name": "stdout",
     "output_type": "stream",
     "text": [
      "Cancel the reservation of the ticket as it is already reserved.\n"
     ]
    }
   ],
   "source": [
    "tic.cancel_reservation()"
   ]
  },
  {
   "cell_type": "code",
   "execution_count": 12,
   "id": "a60614e7-ebcd-4966-9333-41ebcef7a20c",
   "metadata": {},
   "outputs": [
    {
     "name": "stdout",
     "output_type": "stream",
     "text": [
      "The cost of the ticket ID 54321 with the seat number S2 7 is Rs.1500 to Kerala for the marriage event on 10/07/2023 was Reserved.\n"
     ]
    }
   ],
   "source": [
    "tic.display_ticket_info()"
   ]
  },
  {
   "cell_type": "code",
   "execution_count": null,
   "id": "aa3e6204-1389-411b-a9e5-c129b0d91c95",
   "metadata": {},
   "outputs": [],
   "source": [
    "'''\n",
    "Ques 9:\n",
    "You are creating a shopping cart for an e-commerce website. Using OOP to model\n",
    "the \"ShoppingCart\" functionality the class should contain following attributes and\n",
    "methods:\n",
    "    a. items: Represents the list of items in the shopping cart.\n",
    "    \n",
    "The class also includes the following methods:\n",
    "    a. add_item(self, item): Adds an item to the shopping cart by appending it to the\n",
    "       list of items.\n",
    "    b. remove_item(self, item): Removes an item from the shopping cart if it exists in\n",
    "       the list.\n",
    "    c. view_cart(self): Displays the items currently present in the shopping cart.\n",
    "    d. clear_cart(self): Clears all items from the shopping cart by reassigning an\n",
    "       empty list to the items attribute.\n",
    "'''"
   ]
  },
  {
   "cell_type": "code",
   "execution_count": 6,
   "id": "545b8dac-7cc5-492f-a431-eeaf462e0c90",
   "metadata": {},
   "outputs": [],
   "source": [
    "class ShoppingCart:\n",
    "    def __init__(self,person):\n",
    "        self.person = person\n",
    "        self.items = []\n",
    "        \n",
    "    def add_item(self,item):\n",
    "        self.items.append(item)\n",
    "        \n",
    "    def remove_item(self,item):\n",
    "        if item in self.items:\n",
    "            self.items.remove(item)\n",
    "            print(f'The {item} was removed.')\n",
    "            \n",
    "    def view_cart(self):\n",
    "        print(f'Items in the shopping cart of {self.person}:')\n",
    "        for item in self.items:\n",
    "            print(item)\n",
    "            \n",
    "    def clear_cart(self):\n",
    "        self.items.clear()\n",
    "        print(f'All the items in the shopping cart of {self.person} was cleared.')"
   ]
  },
  {
   "cell_type": "code",
   "execution_count": 7,
   "id": "f3f6daf1-9479-4990-8f41-a1a170969d0d",
   "metadata": {},
   "outputs": [],
   "source": [
    "saran = ShoppingCart('Saran')"
   ]
  },
  {
   "cell_type": "code",
   "execution_count": 8,
   "id": "f74ff7ff-ceb8-4e17-ad50-e27d3b851ac4",
   "metadata": {},
   "outputs": [],
   "source": [
    "saran.add_item('Pen')\n",
    "saran.add_item('Pencil')\n",
    "saran.add_item('Notebook')\n",
    "saran.add_item('School bag')\n",
    "saran.add_item('Shoe')"
   ]
  },
  {
   "cell_type": "code",
   "execution_count": 10,
   "id": "dd6f6696-f87b-423b-923c-f94cd48103ca",
   "metadata": {},
   "outputs": [
    {
     "name": "stdout",
     "output_type": "stream",
     "text": [
      "Items in the shopping cart of Saran:\n",
      "Pen\n",
      "Pencil\n",
      "Notebook\n",
      "School bag\n",
      "Shoe\n"
     ]
    }
   ],
   "source": [
    "saran.view_cart()"
   ]
  },
  {
   "cell_type": "code",
   "execution_count": 11,
   "id": "0052fe3c-262f-43b4-9cd2-22abcff37055",
   "metadata": {},
   "outputs": [
    {
     "name": "stdout",
     "output_type": "stream",
     "text": [
      "The Shoe was removed.\n"
     ]
    }
   ],
   "source": [
    "saran.remove_item('Shoe')"
   ]
  },
  {
   "cell_type": "code",
   "execution_count": 12,
   "id": "1f07d74f-0830-4708-9b5e-a25786e63983",
   "metadata": {},
   "outputs": [
    {
     "name": "stdout",
     "output_type": "stream",
     "text": [
      "Items in the shopping cart of Saran:\n",
      "Pen\n",
      "Pencil\n",
      "Notebook\n",
      "School bag\n"
     ]
    }
   ],
   "source": [
    "saran.view_cart()"
   ]
  },
  {
   "cell_type": "code",
   "execution_count": 13,
   "id": "22daa163-2892-4046-9cc9-1e4dfc7ca8fb",
   "metadata": {},
   "outputs": [
    {
     "name": "stdout",
     "output_type": "stream",
     "text": [
      "All the items in the shopping cart of Saran was cleared.\n"
     ]
    }
   ],
   "source": [
    "saran.clear_cart()"
   ]
  },
  {
   "cell_type": "code",
   "execution_count": 14,
   "id": "5681f5be-9ed8-4238-9bb2-9985740f2330",
   "metadata": {},
   "outputs": [
    {
     "data": {
      "text/plain": [
       "[]"
      ]
     },
     "execution_count": 14,
     "metadata": {},
     "output_type": "execute_result"
    }
   ],
   "source": [
    "saran.items"
   ]
  },
  {
   "cell_type": "code",
   "execution_count": null,
   "id": "85a6633a-6685-4b8b-bf7a-9df497a5417d",
   "metadata": {},
   "outputs": [],
   "source": [
    "'''\n",
    "Ques 10:\n",
    "Imagine a school management system. You have to design the \"Student\" class using\n",
    "OOP concepts.The “Student” class has the following attributes:\n",
    "    a. name: Represents the name of the student.\n",
    "    b. age: Represents the age of the student.\n",
    "    c. grade: Represents the grade or class of the student.\n",
    "    d. student_id: Represents the unique identifier for the student.\n",
    "    e. attendance: Represents the attendance record of the student.\n",
    "    \n",
    "The class should also include the following methods:\n",
    "    a. update_attendance(self, date, status): Updates the attendance record of the\n",
    "       student for a given date with the provided status (e.g., present or absent).\n",
    "    b. get_attendance(self): Returns the attendance record of the student.\n",
    "    c. get_average_attendance(self): Calculates and returns the average\n",
    "       attendance percentage of the student based on their attendance record.\n",
    "'''"
   ]
  },
  {
   "cell_type": "code",
   "execution_count": 1,
   "id": "324fa770-c86e-4ede-96b3-aa735d8cc334",
   "metadata": {},
   "outputs": [],
   "source": [
    "class Student:\n",
    "    def __init__(self,name,age,grade,student_id,attendance):\n",
    "        self.name = name\n",
    "        self.age = age\n",
    "        self.grade = grade\n",
    "        self.student_id = student_id\n",
    "        self.attendance = attendance\n",
    "        \n",
    "    def update_attendance(self,date,status):\n",
    "        print(f'The attendance record of {self.name} on {date} is {status}.')\n",
    "        \n",
    "    def get_attendance(self):\n",
    "        print(f'The attendance record of {self.name} is {self.attendance} days.')\n",
    "        \n",
    "    def get_average_attendance(self):\n",
    "        self.Total_No_of_days = 200\n",
    "        average_attendance = (self.attendance / self.Total_No_of_days) * 100\n",
    "        print(f'The average attendance percentage of {self.name} is {average_attendance}%.')"
   ]
  },
  {
   "cell_type": "code",
   "execution_count": 2,
   "id": "b8913f81-c169-464f-bcf5-980f0df4d0d6",
   "metadata": {},
   "outputs": [],
   "source": [
    "student1 = Student('Saran', 18, 'A', 54321, 185)"
   ]
  },
  {
   "cell_type": "code",
   "execution_count": 3,
   "id": "04341222-12a2-40c8-9084-9dfd7fd16f57",
   "metadata": {},
   "outputs": [
    {
     "name": "stdout",
     "output_type": "stream",
     "text": [
      "The attendance record of Saran on 10/07/2023 is Present.\n"
     ]
    }
   ],
   "source": [
    "student1.update_attendance('10/07/2023','Present')"
   ]
  },
  {
   "cell_type": "code",
   "execution_count": 4,
   "id": "b224f860-37ae-4fb7-8939-cfcf69fc4978",
   "metadata": {},
   "outputs": [
    {
     "name": "stdout",
     "output_type": "stream",
     "text": [
      "The attendance record of Saran is 185 days.\n"
     ]
    }
   ],
   "source": [
    "student1.get_attendance()"
   ]
  },
  {
   "cell_type": "code",
   "execution_count": 5,
   "id": "61e9e523-d0a4-4fb2-ad1b-89310ed507be",
   "metadata": {},
   "outputs": [
    {
     "name": "stdout",
     "output_type": "stream",
     "text": [
      "The average attendance percentage of Saran is 92.5%.\n"
     ]
    }
   ],
   "source": [
    "student1.get_average_attendance()"
   ]
  }
 ],
 "metadata": {
  "kernelspec": {
   "display_name": "Python 3 (ipykernel)",
   "language": "python",
   "name": "python3"
  },
  "language_info": {
   "codemirror_mode": {
    "name": "ipython",
    "version": 3
   },
   "file_extension": ".py",
   "mimetype": "text/x-python",
   "name": "python",
   "nbconvert_exporter": "python",
   "pygments_lexer": "ipython3",
   "version": "3.10.6"
  }
 },
 "nbformat": 4,
 "nbformat_minor": 5
}
