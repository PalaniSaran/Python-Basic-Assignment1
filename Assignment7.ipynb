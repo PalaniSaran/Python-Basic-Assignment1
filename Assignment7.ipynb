{
 "cells": [
  {
   "cell_type": "code",
   "execution_count": null,
   "id": "13c7681b-7a0e-43b4-bf56-7c48828bee64",
   "metadata": {},
   "outputs": [],
   "source": [
    "'''\n",
    "Ques 1:\n",
    "\n",
    "Create two int type variables, apply addition, subtraction, division and multiplications\n",
    "and store the results in variables. Then print the data in the following format by calling the\n",
    "variables:\n",
    "First variable is __ & second variable is __.\n",
    "Addition: __ + __ = __\n",
    "Subtraction: __ - __ = __\n",
    "Multiplication: __ * __ = __\n",
    "Division: __ / __ = __\n",
    "'''"
   ]
  },
  {
   "cell_type": "code",
   "execution_count": 8,
   "id": "b150dc9a-3186-45f3-85a1-f17170e108ae",
   "metadata": {},
   "outputs": [
    {
     "name": "stdout",
     "output_type": "stream",
     "text": [
      "First variable is 10 & second variable is 5\n",
      "Addition: 10 + 5 = 15\n",
      "Subtraction: 10 - 5 = 5\n",
      "Multiplication: 10 * 5 = 50\n",
      "Division: 10 / 5 = 2.0\n"
     ]
    }
   ],
   "source": [
    "x = 10\n",
    "y = 5\n",
    "\n",
    "def calculator():\n",
    "    Addition = x + y\n",
    "    print('Addition:', x, '+', y, '=', Addition)\n",
    "    Subtraction = x - y\n",
    "    print('Subtraction:', x, '-', y, '=', Subtraction)\n",
    "    Multiplication = x * y\n",
    "    print('Multiplication:', x, '*', y, '=', Multiplication)\n",
    "    Division = x / y\n",
    "    print('Division:', x, '/', y, '=', Division)\n",
    "    \n",
    "print('First variable is', x , '&', 'second variable is', y)\n",
    "\n",
    "calculator()"
   ]
  },
  {
   "cell_type": "code",
   "execution_count": null,
   "id": "31606b6d-c2ca-4718-ab82-fa39203acd1f",
   "metadata": {},
   "outputs": [],
   "source": [
    "'''\n",
    "Ques 2: What is the difference between the following operators:\n",
    "(i) ‘/’ & ‘//’\n",
    "(ii) ‘**’ & ‘^’\n",
    "'''"
   ]
  },
  {
   "cell_type": "code",
   "execution_count": 10,
   "id": "ef580141-d430-41a6-8878-03826cd011ea",
   "metadata": {},
   "outputs": [
    {
     "name": "stdout",
     "output_type": "stream",
     "text": [
      "5.0\n",
      "6\n",
      "8\n",
      "4\n"
     ]
    },
    {
     "data": {
      "text/plain": [
       "'\\nBinary values\\n\\n3 = 0011\\n7 = 0111\\n4 = 0100\\n'"
      ]
     },
     "execution_count": 10,
     "metadata": {},
     "output_type": "execute_result"
    }
   ],
   "source": [
    "'''\n",
    "(i) '/'  - It will perform division process.\n",
    "    '//' - It will perform division, but the result shows the roundoff value down to the nearest whole number.\n",
    "'''\n",
    "\n",
    "print(10/2)\n",
    "print(13//2)\n",
    "    \n",
    "'''\n",
    "(ii)'**' - It will perform exponential operation. ex: 2**3 means 2*2*2 = 8\n",
    "    '^'  - It will perform xor operation which means if only one of the bits is 1 then it will set the bit 1.\n",
    "'''\n",
    "\n",
    "print(2**3)\n",
    "print(3^7)\n",
    "\n",
    "'''\n",
    "Binary values\n",
    "\n",
    "3 = 0011\n",
    "7 = 0111\n",
    "4 = 0100\n",
    "'''"
   ]
  },
  {
   "cell_type": "code",
   "execution_count": null,
   "id": "401d0647-fe79-45c4-a9d5-b9f8921a233b",
   "metadata": {},
   "outputs": [],
   "source": [
    "# Ques 3: List the logical operators.\n",
    "\n",
    "'''\n",
    "Answer:\n",
    "\n",
    "and - Returns True if both the statements are True.\n",
    "or  - Returns True if any one of the statement is True.\n",
    "not - Reverse the result means Returns True if the result is False.\n",
    "'''"
   ]
  },
  {
   "cell_type": "code",
   "execution_count": 11,
   "id": "2024b4ed-c1a9-4ffa-9840-9e95425b99ab",
   "metadata": {},
   "outputs": [
    {
     "name": "stdout",
     "output_type": "stream",
     "text": [
      "5\n",
      "10\n"
     ]
    },
    {
     "data": {
      "text/plain": [
       "'\\na      = 5   (0000 0101)\\na << 1 = 10  (0000 1010)\\n'"
      ]
     },
     "execution_count": 11,
     "metadata": {},
     "output_type": "execute_result"
    }
   ],
   "source": [
    "# Ques 4:  Explain right shift operator and left shift operator with examples.\n",
    "\n",
    "'''\n",
    "Right Shift - Shifting the bits to the right side. Shifting step is mentioned by an integer.\n",
    "'''\n",
    "\n",
    "a = 10\n",
    "print(a >> 1)\n",
    "\n",
    "'''\n",
    "a      = 10  (0000 1010)\n",
    "a >> 1 = 5   (0000 0101)\n",
    "'''\n",
    "\n",
    "'''\n",
    "Left Shifting - Shifting the bits to the left side. Shifting step is mentioned by an integer.\n",
    "'''\n",
    "\n",
    "a = 5\n",
    "print(a << 1)\n",
    "\n",
    "'''\n",
    "a      = 5   (0000 0101)\n",
    "a << 1 = 10  (0000 1010)\n",
    "'''"
   ]
  },
  {
   "cell_type": "code",
   "execution_count": 14,
   "id": "ad51729e-8aec-46bc-b5e7-46851817eead",
   "metadata": {},
   "outputs": [
    {
     "name": "stdout",
     "output_type": "stream",
     "text": [
      "10 is present in the List\n"
     ]
    }
   ],
   "source": [
    "# Ques 5: Create a list containing int type data of length 15. Then write a code to check if 10 is\n",
    "#         present in the list or not.\n",
    "\n",
    "List = [1,2,3,4,5,6,7,8,9,10,11,12,13,14,15]\n",
    "\n",
    "if 10 in List:\n",
    "    print(10, 'is present in the List')\n",
    "else:\n",
    "    print(10, 'is not present in the List')"
   ]
  },
  {
   "cell_type": "code",
   "execution_count": 7,
   "id": "5ca57020-bc9e-4220-826f-c40a567ec366",
   "metadata": {},
   "outputs": [
    {
     "data": {
      "text/plain": [
       "True"
      ]
     },
     "execution_count": 7,
     "metadata": {},
     "output_type": "execute_result"
    }
   ],
   "source": [
    "# Short method\n",
    "\n",
    "List = [1,2,3,4,5,6,7,8,9,10,11,12,13,14,15]\n",
    "\n",
    "True if 10 in List else False"
   ]
  }
 ],
 "metadata": {
  "kernelspec": {
   "display_name": "Python 3 (ipykernel)",
   "language": "python",
   "name": "python3"
  },
  "language_info": {
   "codemirror_mode": {
    "name": "ipython",
    "version": 3
   },
   "file_extension": ".py",
   "mimetype": "text/x-python",
   "name": "python",
   "nbconvert_exporter": "python",
   "pygments_lexer": "ipython3",
   "version": "3.10.6"
  }
 },
 "nbformat": 4,
 "nbformat_minor": 5
}
